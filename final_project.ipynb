{
 "cells": [
  {
   "cell_type": "markdown",
   "id": "480f176b-4c5c-4180-9117-73013d6b7ae4",
   "metadata": {},
   "source": [
    "# <center>Final Project - Intro to CS for Data Science</center>"
   ]
  },
  {
   "cell_type": "code",
   "execution_count": 1,
   "id": "4850faea-0d08-4ce5-a194-f60639421f66",
   "metadata": {},
   "outputs": [],
   "source": [
    "%matplotlib inline\n",
    "import matplotlib.pyplot as plt\n",
    "plt.style.use('classic')\n",
    "import pandas as pd\n",
    "import numpy as np\n",
    "import seaborn as sns\n",
    "import string"
   ]
  },
  {
   "cell_type": "markdown",
   "id": "deaed938-5a5e-4ebc-bcc7-daa6dc2bd404",
   "metadata": {},
   "source": [
    "## <center>Customer Data Analysis</center>"
   ]
  },
  {
   "cell_type": "markdown",
   "id": "927ff0be-7381-4587-b42b-11a2a77f1f26",
   "metadata": {
    "jp-MarkdownHeadingCollapsed": true
   },
   "source": [
    "### 1. Load and Inspect the Data"
   ]
  },
  {
   "cell_type": "markdown",
   "id": "9aff46eb-e2ce-479d-8407-22af8621dbd9",
   "metadata": {},
   "source": [
    "Let's start by importing our customer dataset into a pandas dataframe:"
   ]
  },
  {
   "cell_type": "code",
   "execution_count": 2,
   "id": "e0223808-ce47-4f9c-b44c-cc8c996113c8",
   "metadata": {},
   "outputs": [],
   "source": [
    "customer_data = pd.read_csv('./customers.csv', encoding='utf-8')"
   ]
  },
  {
   "cell_type": "code",
   "execution_count": 3,
   "id": "0b666834-aa15-4b93-a7cf-53045e69591b",
   "metadata": {},
   "outputs": [
    {
     "data": {
      "text/html": [
       "<div>\n",
       "<style scoped>\n",
       "    .dataframe tbody tr th:only-of-type {\n",
       "        vertical-align: middle;\n",
       "    }\n",
       "\n",
       "    .dataframe tbody tr th {\n",
       "        vertical-align: top;\n",
       "    }\n",
       "\n",
       "    .dataframe thead th {\n",
       "        text-align: right;\n",
       "    }\n",
       "</style>\n",
       "<table border=\"1\" class=\"dataframe\">\n",
       "  <thead>\n",
       "    <tr style=\"text-align: right;\">\n",
       "      <th></th>\n",
       "      <th>id</th>\n",
       "      <th>age</th>\n",
       "      <th>gender</th>\n",
       "      <th>email</th>\n",
       "      <th>business_nature</th>\n",
       "      <th>company</th>\n",
       "      <th>position</th>\n",
       "      <th>payment_method</th>\n",
       "      <th>name</th>\n",
       "      <th>targets</th>\n",
       "    </tr>\n",
       "  </thead>\n",
       "  <tbody>\n",
       "    <tr>\n",
       "      <th>0</th>\n",
       "      <td>0</td>\n",
       "      <td>26</td>\n",
       "      <td>Male</td>\n",
       "      <td>gmail.com</td>\n",
       "      <td>Communications</td>\n",
       "      <td>NaN</td>\n",
       "      <td>customer service officer</td>\n",
       "      <td>A</td>\n",
       "      <td>John__melgarejo</td>\n",
       "      <td>20670.07;20632.81;20722.58;20332.79;20662.55</td>\n",
       "    </tr>\n",
       "    <tr>\n",
       "      <th>1</th>\n",
       "      <td>1</td>\n",
       "      <td>31</td>\n",
       "      <td>Male</td>\n",
       "      <td>ymail.com</td>\n",
       "      <td>Government</td>\n",
       "      <td>NaN</td>\n",
       "      <td>助理客戶服務主管</td>\n",
       "      <td>A</td>\n",
       "      <td>William___kerne</td>\n",
       "      <td>31551.75;32431.83</td>\n",
       "    </tr>\n",
       "    <tr>\n",
       "      <th>2</th>\n",
       "      <td>2</td>\n",
       "      <td>26</td>\n",
       "      <td>Male</td>\n",
       "      <td>yahoo.com.hk</td>\n",
       "      <td>Retail / Wholesale</td>\n",
       "      <td>NaN</td>\n",
       "      <td>店務員</td>\n",
       "      <td>A</td>\n",
       "      <td>James___kadner</td>\n",
       "      <td>21686.08;21282.62;21566.40</td>\n",
       "    </tr>\n",
       "    <tr>\n",
       "      <th>3</th>\n",
       "      <td>3</td>\n",
       "      <td>52</td>\n",
       "      <td>Male</td>\n",
       "      <td>gmail.com</td>\n",
       "      <td>Other</td>\n",
       "      <td>NaN</td>\n",
       "      <td>MANAGER</td>\n",
       "      <td>NaN</td>\n",
       "      <td>Charles__MUHL</td>\n",
       "      <td>26055.26;26039.48;25986.92</td>\n",
       "    </tr>\n",
       "    <tr>\n",
       "      <th>4</th>\n",
       "      <td>4</td>\n",
       "      <td>22</td>\n",
       "      <td>Male</td>\n",
       "      <td>gmail.com</td>\n",
       "      <td>Retail / Wholesale</td>\n",
       "      <td>NaN</td>\n",
       "      <td>sales</td>\n",
       "      <td>A</td>\n",
       "      <td>george___baridon</td>\n",
       "      <td>15950.31</td>\n",
       "    </tr>\n",
       "  </tbody>\n",
       "</table>\n",
       "</div>"
      ],
      "text/plain": [
       "   id  age gender         email     business_nature company  \\\n",
       "0   0   26   Male     gmail.com      Communications     NaN   \n",
       "1   1   31   Male     ymail.com          Government     NaN   \n",
       "2   2   26   Male  yahoo.com.hk  Retail / Wholesale     NaN   \n",
       "3   3   52   Male     gmail.com               Other     NaN   \n",
       "4   4   22   Male     gmail.com  Retail / Wholesale     NaN   \n",
       "\n",
       "                   position payment_method              name  \\\n",
       "0  customer service officer              A   John__melgarejo   \n",
       "1                  助理客戶服務主管              A   William___kerne   \n",
       "2                       店務員              A    James___kadner   \n",
       "3                   MANAGER            NaN     Charles__MUHL   \n",
       "4                     sales              A  george___baridon   \n",
       "\n",
       "                                        targets  \n",
       "0  20670.07;20632.81;20722.58;20332.79;20662.55  \n",
       "1                             31551.75;32431.83  \n",
       "2                    21686.08;21282.62;21566.40  \n",
       "3                    26055.26;26039.48;25986.92  \n",
       "4                                      15950.31  "
      ]
     },
     "execution_count": 3,
     "metadata": {},
     "output_type": "execute_result"
    }
   ],
   "source": [
    "customer_data.head()"
   ]
  },
  {
   "cell_type": "code",
   "execution_count": 4,
   "id": "384f4d17-52ed-4adb-9159-b5291ef1a9de",
   "metadata": {},
   "outputs": [
    {
     "name": "stdout",
     "output_type": "stream",
     "text": [
      "<class 'pandas.core.frame.DataFrame'>\n",
      "RangeIndex: 9189 entries, 0 to 9188\n",
      "Data columns (total 10 columns):\n",
      " #   Column           Non-Null Count  Dtype \n",
      "---  ------           --------------  ----- \n",
      " 0   id               9189 non-null   int64 \n",
      " 1   age              9189 non-null   int64 \n",
      " 2   gender           8874 non-null   object\n",
      " 3   email            9012 non-null   object\n",
      " 4   business_nature  8978 non-null   object\n",
      " 5   company          8906 non-null   object\n",
      " 6   position         8914 non-null   object\n",
      " 7   payment_method   5865 non-null   object\n",
      " 8   name             9189 non-null   object\n",
      " 9   targets          9104 non-null   object\n",
      "dtypes: int64(2), object(8)\n",
      "memory usage: 718.0+ KB\n"
     ]
    }
   ],
   "source": [
    "customer_data.info()"
   ]
  },
  {
   "cell_type": "markdown",
   "id": "437275f7-bf66-45b3-be01-c1e9f61756d9",
   "metadata": {},
   "source": [
    "* We observe that we have ***9189*** samples (customers) each with ***10*** variables.\n",
    "* We have ***2*** numerical features (**id** and **age**)\n",
    "* We have ***8*** categorical features (**gender**, **email**, **business nature**, **company**, **position**, **payment method**, **name** and **targets**)\n",
    "* It apears that we are missing values in certain features (**gender**, **email**, **business nature**, **company**, **position**, **payment method**(a lot) and **targets**)"
   ]
  },
  {
   "cell_type": "markdown",
   "id": "b68d73c8-2aab-4a11-9932-efd40f14b571",
   "metadata": {},
   "source": [
    "### 2. Data Cleaning"
   ]
  },
  {
   "cell_type": "markdown",
   "id": "f6297999-d346-4093-8293-80e180218e70",
   "metadata": {},
   "source": [
    "Next, we need to clean our data so we can later analyze it with a greater degree of reliability. Below are the actions we will perform:\n",
    "* Split the `name` column\n",
    "* Split the `target` column\n",
    "* Handle missing values\n",
    "* Handle outliers\n",
    "* Handle data inconsistencies\n",
    "* Standardize the data"
   ]
  },
  {
   "cell_type": "markdown",
   "id": "449a3338-298d-4071-86cd-fe187b11dafe",
   "metadata": {
    "jp-MarkdownHeadingCollapsed": true
   },
   "source": [
    "#### Splitting the `name` column"
   ]
  },
  {
   "cell_type": "markdown",
   "id": "5e3d874f-6be0-4ac4-b724-8572e5d9baf7",
   "metadata": {},
   "source": [
    "The name column contains both the customer's first and last name which isn't practical. Let's split the name feature into two features: first name and last name.<br>\n",
    "\n",
    "Since the fullnames have a varying number of `_` charcters between the first and last name, we had to use regular expressions to extract the text before and after the delimiter."
   ]
  },
  {
   "cell_type": "code",
   "execution_count": 5,
   "id": "98cf1917-38b5-4bb2-8a42-d4cb0d549947",
   "metadata": {},
   "outputs": [
    {
     "data": {
      "text/html": [
       "<div>\n",
       "<style scoped>\n",
       "    .dataframe tbody tr th:only-of-type {\n",
       "        vertical-align: middle;\n",
       "    }\n",
       "\n",
       "    .dataframe tbody tr th {\n",
       "        vertical-align: top;\n",
       "    }\n",
       "\n",
       "    .dataframe thead th {\n",
       "        text-align: right;\n",
       "    }\n",
       "</style>\n",
       "<table border=\"1\" class=\"dataframe\">\n",
       "  <thead>\n",
       "    <tr style=\"text-align: right;\">\n",
       "      <th></th>\n",
       "      <th>id</th>\n",
       "      <th>age</th>\n",
       "      <th>gender</th>\n",
       "      <th>email</th>\n",
       "      <th>business_nature</th>\n",
       "      <th>company</th>\n",
       "      <th>position</th>\n",
       "      <th>payment_method</th>\n",
       "      <th>targets</th>\n",
       "      <th>first_name</th>\n",
       "      <th>last_name</th>\n",
       "    </tr>\n",
       "  </thead>\n",
       "  <tbody>\n",
       "    <tr>\n",
       "      <th>0</th>\n",
       "      <td>0</td>\n",
       "      <td>26</td>\n",
       "      <td>Male</td>\n",
       "      <td>gmail.com</td>\n",
       "      <td>Communications</td>\n",
       "      <td>NaN</td>\n",
       "      <td>customer service officer</td>\n",
       "      <td>A</td>\n",
       "      <td>20670.07;20632.81;20722.58;20332.79;20662.55</td>\n",
       "      <td>John</td>\n",
       "      <td>Melgarejo</td>\n",
       "    </tr>\n",
       "    <tr>\n",
       "      <th>1</th>\n",
       "      <td>1</td>\n",
       "      <td>31</td>\n",
       "      <td>Male</td>\n",
       "      <td>ymail.com</td>\n",
       "      <td>Government</td>\n",
       "      <td>NaN</td>\n",
       "      <td>助理客戶服務主管</td>\n",
       "      <td>A</td>\n",
       "      <td>31551.75;32431.83</td>\n",
       "      <td>William</td>\n",
       "      <td>Kerne</td>\n",
       "    </tr>\n",
       "    <tr>\n",
       "      <th>2</th>\n",
       "      <td>2</td>\n",
       "      <td>26</td>\n",
       "      <td>Male</td>\n",
       "      <td>yahoo.com.hk</td>\n",
       "      <td>Retail / Wholesale</td>\n",
       "      <td>NaN</td>\n",
       "      <td>店務員</td>\n",
       "      <td>A</td>\n",
       "      <td>21686.08;21282.62;21566.40</td>\n",
       "      <td>James</td>\n",
       "      <td>Kadner</td>\n",
       "    </tr>\n",
       "    <tr>\n",
       "      <th>3</th>\n",
       "      <td>3</td>\n",
       "      <td>52</td>\n",
       "      <td>Male</td>\n",
       "      <td>gmail.com</td>\n",
       "      <td>Other</td>\n",
       "      <td>NaN</td>\n",
       "      <td>MANAGER</td>\n",
       "      <td>NaN</td>\n",
       "      <td>26055.26;26039.48;25986.92</td>\n",
       "      <td>Charles</td>\n",
       "      <td>Muhl</td>\n",
       "    </tr>\n",
       "    <tr>\n",
       "      <th>4</th>\n",
       "      <td>4</td>\n",
       "      <td>22</td>\n",
       "      <td>Male</td>\n",
       "      <td>gmail.com</td>\n",
       "      <td>Retail / Wholesale</td>\n",
       "      <td>NaN</td>\n",
       "      <td>sales</td>\n",
       "      <td>A</td>\n",
       "      <td>15950.31</td>\n",
       "      <td>George</td>\n",
       "      <td>Baridon</td>\n",
       "    </tr>\n",
       "  </tbody>\n",
       "</table>\n",
       "</div>"
      ],
      "text/plain": [
       "   id  age gender         email     business_nature company  \\\n",
       "0   0   26   Male     gmail.com      Communications     NaN   \n",
       "1   1   31   Male     ymail.com          Government     NaN   \n",
       "2   2   26   Male  yahoo.com.hk  Retail / Wholesale     NaN   \n",
       "3   3   52   Male     gmail.com               Other     NaN   \n",
       "4   4   22   Male     gmail.com  Retail / Wholesale     NaN   \n",
       "\n",
       "                   position payment_method  \\\n",
       "0  customer service officer              A   \n",
       "1                  助理客戶服務主管              A   \n",
       "2                       店務員              A   \n",
       "3                   MANAGER            NaN   \n",
       "4                     sales              A   \n",
       "\n",
       "                                        targets first_name  last_name  \n",
       "0  20670.07;20632.81;20722.58;20332.79;20662.55       John  Melgarejo  \n",
       "1                             31551.75;32431.83    William      Kerne  \n",
       "2                    21686.08;21282.62;21566.40      James     Kadner  \n",
       "3                    26055.26;26039.48;25986.92    Charles       Muhl  \n",
       "4                                      15950.31     George    Baridon  "
      ]
     },
     "execution_count": 5,
     "metadata": {},
     "output_type": "execute_result"
    }
   ],
   "source": [
    "pattern = r'^([^_]+)_+([^_]+)$'\n",
    "customer_data[['first_name', 'last_name']] = customer_data['name'].str.extract(pattern)\n",
    "\n",
    "# Capitalize first and last name\n",
    "customer_data['first_name'] = customer_data['first_name'].str.capitalize()\n",
    "customer_data['last_name'] = customer_data['last_name'].str.capitalize()\n",
    "\n",
    "# Drop original 'name' column\n",
    "customer_data.drop(columns='name', inplace=True)\n",
    "\n",
    "customer_data.head()"
   ]
  },
  {
   "cell_type": "markdown",
   "id": "300c681f-073c-4390-86cf-03d64bc13ce9",
   "metadata": {
    "jp-MarkdownHeadingCollapsed": true
   },
   "source": [
    "#### Splitting the `target` column"
   ]
  },
  {
   "cell_type": "markdown",
   "id": "2158f8d2-6c6c-4351-8e0e-f8ee0c317048",
   "metadata": {},
   "source": [
    "Next we observe that the `target` feature contains strings representing numerical values seperated by a `;`. This isn't practical for analysis and we will need to clean this as follows:\n",
    "* Split the `;` seperated values in the targets column into a list.\n",
    "* Convert the target list into numerical values.\n",
    "* Calculate mean, std and count."
   ]
  },
  {
   "cell_type": "code",
   "execution_count": 6,
   "id": "6c7fc2db-7b0f-469b-98c0-612afd9eafd8",
   "metadata": {},
   "outputs": [
    {
     "data": {
      "text/html": [
       "<div>\n",
       "<style scoped>\n",
       "    .dataframe tbody tr th:only-of-type {\n",
       "        vertical-align: middle;\n",
       "    }\n",
       "\n",
       "    .dataframe tbody tr th {\n",
       "        vertical-align: top;\n",
       "    }\n",
       "\n",
       "    .dataframe thead th {\n",
       "        text-align: right;\n",
       "    }\n",
       "</style>\n",
       "<table border=\"1\" class=\"dataframe\">\n",
       "  <thead>\n",
       "    <tr style=\"text-align: right;\">\n",
       "      <th></th>\n",
       "      <th>id</th>\n",
       "      <th>age</th>\n",
       "      <th>gender</th>\n",
       "      <th>email</th>\n",
       "      <th>business_nature</th>\n",
       "      <th>company</th>\n",
       "      <th>position</th>\n",
       "      <th>payment_method</th>\n",
       "      <th>first_name</th>\n",
       "      <th>last_name</th>\n",
       "      <th>target list</th>\n",
       "      <th>target_mean</th>\n",
       "      <th>target_std</th>\n",
       "      <th>target_count</th>\n",
       "    </tr>\n",
       "  </thead>\n",
       "  <tbody>\n",
       "    <tr>\n",
       "      <th>0</th>\n",
       "      <td>0</td>\n",
       "      <td>26</td>\n",
       "      <td>Male</td>\n",
       "      <td>gmail.com</td>\n",
       "      <td>Communications</td>\n",
       "      <td>NaN</td>\n",
       "      <td>customer service officer</td>\n",
       "      <td>A</td>\n",
       "      <td>John</td>\n",
       "      <td>Melgarejo</td>\n",
       "      <td>[20670.07, 20632.81, 20722.58, 20332.79, 20662...</td>\n",
       "      <td>20604.16</td>\n",
       "      <td>138.736669</td>\n",
       "      <td>5</td>\n",
       "    </tr>\n",
       "    <tr>\n",
       "      <th>1</th>\n",
       "      <td>1</td>\n",
       "      <td>31</td>\n",
       "      <td>Male</td>\n",
       "      <td>ymail.com</td>\n",
       "      <td>Government</td>\n",
       "      <td>NaN</td>\n",
       "      <td>助理客戶服務主管</td>\n",
       "      <td>A</td>\n",
       "      <td>William</td>\n",
       "      <td>Kerne</td>\n",
       "      <td>[31551.75, 32431.83]</td>\n",
       "      <td>31991.79</td>\n",
       "      <td>440.040000</td>\n",
       "      <td>2</td>\n",
       "    </tr>\n",
       "    <tr>\n",
       "      <th>2</th>\n",
       "      <td>2</td>\n",
       "      <td>26</td>\n",
       "      <td>Male</td>\n",
       "      <td>yahoo.com.hk</td>\n",
       "      <td>Retail / Wholesale</td>\n",
       "      <td>NaN</td>\n",
       "      <td>店務員</td>\n",
       "      <td>A</td>\n",
       "      <td>James</td>\n",
       "      <td>Kadner</td>\n",
       "      <td>[21686.08, 21282.62, 21566.4]</td>\n",
       "      <td>21511.70</td>\n",
       "      <td>169.192317</td>\n",
       "      <td>3</td>\n",
       "    </tr>\n",
       "    <tr>\n",
       "      <th>3</th>\n",
       "      <td>3</td>\n",
       "      <td>52</td>\n",
       "      <td>Male</td>\n",
       "      <td>gmail.com</td>\n",
       "      <td>Other</td>\n",
       "      <td>NaN</td>\n",
       "      <td>MANAGER</td>\n",
       "      <td>NaN</td>\n",
       "      <td>Charles</td>\n",
       "      <td>Muhl</td>\n",
       "      <td>[26055.26, 26039.48, 25986.92]</td>\n",
       "      <td>26027.22</td>\n",
       "      <td>29.215516</td>\n",
       "      <td>3</td>\n",
       "    </tr>\n",
       "    <tr>\n",
       "      <th>4</th>\n",
       "      <td>4</td>\n",
       "      <td>22</td>\n",
       "      <td>Male</td>\n",
       "      <td>gmail.com</td>\n",
       "      <td>Retail / Wholesale</td>\n",
       "      <td>NaN</td>\n",
       "      <td>sales</td>\n",
       "      <td>A</td>\n",
       "      <td>George</td>\n",
       "      <td>Baridon</td>\n",
       "      <td>[15950.31]</td>\n",
       "      <td>15950.31</td>\n",
       "      <td>0.000000</td>\n",
       "      <td>1</td>\n",
       "    </tr>\n",
       "  </tbody>\n",
       "</table>\n",
       "</div>"
      ],
      "text/plain": [
       "   id  age gender         email     business_nature company  \\\n",
       "0   0   26   Male     gmail.com      Communications     NaN   \n",
       "1   1   31   Male     ymail.com          Government     NaN   \n",
       "2   2   26   Male  yahoo.com.hk  Retail / Wholesale     NaN   \n",
       "3   3   52   Male     gmail.com               Other     NaN   \n",
       "4   4   22   Male     gmail.com  Retail / Wholesale     NaN   \n",
       "\n",
       "                   position payment_method first_name  last_name  \\\n",
       "0  customer service officer              A       John  Melgarejo   \n",
       "1                  助理客戶服務主管              A    William      Kerne   \n",
       "2                       店務員              A      James     Kadner   \n",
       "3                   MANAGER            NaN    Charles       Muhl   \n",
       "4                     sales              A     George    Baridon   \n",
       "\n",
       "                                         target list  target_mean  target_std  \\\n",
       "0  [20670.07, 20632.81, 20722.58, 20332.79, 20662...     20604.16  138.736669   \n",
       "1                               [31551.75, 32431.83]     31991.79  440.040000   \n",
       "2                      [21686.08, 21282.62, 21566.4]     21511.70  169.192317   \n",
       "3                     [26055.26, 26039.48, 25986.92]     26027.22   29.215516   \n",
       "4                                         [15950.31]     15950.31    0.000000   \n",
       "\n",
       "   target_count  \n",
       "0             5  \n",
       "1             2  \n",
       "2             3  \n",
       "3             3  \n",
       "4             1  "
      ]
     },
     "execution_count": 6,
     "metadata": {},
     "output_type": "execute_result"
    }
   ],
   "source": [
    "# Split the targets column by ';' into a list\n",
    "customer_data['target list'] = customer_data['targets'].str.split(';')\n",
    "\n",
    "# Convert target list to numeric values\n",
    "customer_data['target list'] = customer_data['target list'].apply(lambda x: pd.to_numeric(x))\n",
    "\n",
    "# Calculate mean and SD of target list\n",
    "customer_data['target_mean'] = customer_data['target list'].apply(lambda x: np.mean(x))\n",
    "customer_data['target_std'] = customer_data['target list'].apply(lambda x: np.std(x))\n",
    "\n",
    "# Calculate count of target list, we need to check if target list is NaN, since it will still return size 1 in that case and we want it to return 0\n",
    "customer_data['target_count'] = customer_data['target list'].apply(lambda x: np.size(x) if not np.any(np.isnan(x)) else 0)\n",
    "\n",
    "# Drop original 'targets' column\n",
    "customer_data.drop(columns='targets', inplace=True)\n",
    "\n",
    "customer_data.head()"
   ]
  },
  {
   "cell_type": "markdown",
   "id": "78136f61-6fb9-4632-aa59-3ee3d94edb2a",
   "metadata": {
    "jp-MarkdownHeadingCollapsed": true
   },
   "source": [
    "#### Missing Values"
   ]
  },
  {
   "cell_type": "markdown",
   "id": "e5d0f7d2-ca3e-469f-8f1d-5e0c1b755fb6",
   "metadata": {},
   "source": [
    "Let's start handling the missing values in our customer dataset.\n",
    "First we need to check the percentage of missing values in each column."
   ]
  },
  {
   "cell_type": "code",
   "execution_count": 7,
   "id": "94204be0-17d6-44fe-86f0-218f90f58c93",
   "metadata": {},
   "outputs": [],
   "source": [
    "def print_missing_percentage(df):\n",
    "    \"\"\"\n",
    "    This function takes a dataframe and prints all columns and their missing values as a % of total values\n",
    "    \"\"\"\n",
    "    # Calculate the percentage of missing values in all columns\n",
    "    missing_percentage = (df.isnull().sum() / len(df)) * 100\n",
    "    \n",
    "    # Create a dataframe\n",
    "    missing_percentage = pd.DataFrame({'Column': missing_percentage.index, 'Missing %': missing_percentage.values})\n",
    "    \n",
    "    # Sort dataframe in descending order\n",
    "    missing_percentage = missing_percentage.sort_values(by='Missing %', ascending=False, ignore_index=True)\n",
    "    \n",
    "    print(missing_percentage)"
   ]
  },
  {
   "cell_type": "code",
   "execution_count": 8,
   "id": "fcd38cbb-b431-4f13-9bf5-baff79439f97",
   "metadata": {},
   "outputs": [
    {
     "name": "stdout",
     "output_type": "stream",
     "text": [
      "             Column  Missing %\n",
      "0    payment_method  36.173686\n",
      "1            gender   3.428012\n",
      "2           company   3.079769\n",
      "3          position   2.992709\n",
      "4   business_nature   2.296224\n",
      "5             email   1.926216\n",
      "6       target list   0.925019\n",
      "7       target_mean   0.925019\n",
      "8        target_std   0.925019\n",
      "9                id   0.000000\n",
      "10              age   0.000000\n",
      "11       first_name   0.000000\n",
      "12        last_name   0.000000\n",
      "13     target_count   0.000000\n"
     ]
    }
   ],
   "source": [
    "print_missing_percentage(customer_data)"
   ]
  },
  {
   "cell_type": "markdown",
   "id": "f01c38e6-8c0e-436c-8d2c-9e9a5e3d43cb",
   "metadata": {},
   "source": [
    "Below is an outline of how we will handle the missing data in each of the columns:\n",
    "* `payment_method`:\n",
    "  * The `payment_method` column has a significant portion of missing values (36%), and droppping rows might lead to a significant loss of information. Therefore, a better idea would be to introduce an 'unknown' category to represent the missing values.\n",
    "* `gender`, `business_nature`, `company`, `position`, `email`:\n",
    "    * These columns have a relatively small missing percentage (<5%).\n",
    "    * For `gender` and `business_nature`, we can replace missing values with the most frequent category.\n",
    "    * For `company`, `position` and `email`, we can introduce an 'unknown' category\n",
    "* `target_list`, `target_mean`, `target_sd`:\n",
    "    * We will leave these columns as is and simply ignore NaN values when performing calculations"
   ]
  },
  {
   "cell_type": "markdown",
   "id": "ddf2be36-72b5-4f4c-8fd6-86df008317ae",
   "metadata": {
    "jp-MarkdownHeadingCollapsed": true
   },
   "source": [
    "#### Outliers"
   ]
  },
  {
   "cell_type": "markdown",
   "id": "951e094c-9fea-48f7-9b75-04c3474b0acb",
   "metadata": {},
   "source": [
    "Next, we will search for outliers in our numerical categories. We will start by creating boxplots to better visualize the distribution."
   ]
  },
  {
   "cell_type": "code",
   "execution_count": 9,
   "id": "96d49a1c-2710-4dc0-bee1-720d67897dbf",
   "metadata": {},
   "outputs": [
    {
     "data": {
      "image/png": "[encoded data removed]",
      "text/plain": [
       "<Figure size 1280x480 with 3 Axes>"
      ]
     },
     "metadata": {},
     "output_type": "display_data"
    }
   ],
   "source": [
    "# Create figure and axes\n",
    "fig, axes = plt.subplots(nrows=1, ncols=3, figsize=(16,6))\n",
    "fig.suptitle('Outliers\\n', fontsize=20, fontweight='bold')\n",
    "fig.subplots_adjust(top=1.5)\n",
    "\n",
    "# Create boxplots for age, target_mean and target_std\n",
    "sns.boxplot(y='age', data=customer_data, ax=axes[0])\n",
    "sns.boxplot(y='target_mean', data=customer_data, ax=axes[1])\n",
    "sns.boxplot(y='target_std', data=customer_data, ax=axes[2])\n",
    "\n",
    "# Add titles\n",
    "axes[0].set_title('Age\\n')\n",
    "axes[1].set_title('Target Mean\\n')\n",
    "axes[2].set_title('target Std\\n')\n",
    "\n",
    "plt.tight_layout();"
   ]
  },
  {
   "cell_type": "markdown",
   "id": "0e53d93e-441c-4287-9d06-d3cd7c92160d",
   "metadata": {},
   "source": [
    "* `age` - We observe that there are a few outliers above 60, probably representing older customers. But there apears to be a reasonable range of ages so no further cleaning will be necessary.\n",
    "* `target_mean` - There is a noticable skew with outliers on the higher end, indicating that a few customers have significantly higher target means. This will have a significant impact on further calculations and based on the boxplot our outliers are above the 200,000 level.\n",
    "* `target_std` - There is a noticable skew with outliers on the higher end, indicating that a few customers have significantly higher variability in their target values. This has a significant impact on further calculations and based on the boxplot our outliers are above the 2,000 level."
   ]
  },
  {
   "cell_type": "markdown",
   "id": "cdfcd942-01c2-453d-8f0d-bc450a43c34b",
   "metadata": {},
   "source": [
    "Based on the above, the actions we will need to take on outliers are as follows:\n",
    "* `target_mean` - We will remove rows with a target mean above 200,000\n",
    "* `target_std`  - We will remove rows with a target std above 2,000"
   ]
  },
  {
   "cell_type": "markdown",
   "id": "d9f81e38-9374-4052-ba97-db64beaeaf01",
   "metadata": {
    "jp-MarkdownHeadingCollapsed": true
   },
   "source": [
    "#### Data Inconsistencies and Standardization"
   ]
  },
  {
   "cell_type": "markdown",
   "id": "e70b28d8-9353-418d-be77-d58a599e9696",
   "metadata": {},
   "source": [
    "In the upcoming sections we will standardize and amend inconsistencies in the `gender`, `email`, `business_nature`, `company` and `position` columns using various string manipulation techniques. These cleaning methods will be encapsulated within a class.\n",
    "* `correct_str_values` - Some strings have incorrect values (e.g 'gamil.com', 'gmail.con'). We should have a method that corrects these typos\n",
    "* `trim_whitespace` - Some string values have unecessary whitespace in them (e.g '    mechanic'). We should have a method that handles this.\n",
    "* `capitalize_words` - We would like some strings to be represented with every word in capital letters (e.g positions).\n",
    "* `lowercase` - We would like some strings to be represented in lowercase (e.g emails).\n",
    "* `remove_punctuation` - Removing punctuation and special characters will help standardize company names.\n",
    "* `handle_duplicates` - We would like to eliminate duplicate rows since that would skew our data."
   ]
  },
  {
   "cell_type": "markdown",
   "id": "2acd54a3-9646-4e4a-9376-8c220462e810",
   "metadata": {
    "jp-MarkdownHeadingCollapsed": true
   },
   "source": [
    "#### Create a class to encapsulate data cleaning tasks"
   ]
  },
  {
   "cell_type": "code",
   "execution_count": 10,
   "id": "f87a96ce-e03a-440d-ba1a-a54ed9200e64",
   "metadata": {},
   "outputs": [],
   "source": [
    "class Data_Cleaner:\n",
    "    def __init__(self, df):\n",
    "        self.df = df.copy()\n",
    "\n",
    "    \n",
    "    def handle_missing_values(self):\n",
    "        '''\n",
    "            This method replaces missing values in a provided dataframe based on the following logic.\n",
    "            - payment_method: NaN => 'unknown'\n",
    "            - gender: NaN => mode\n",
    "            - business_nature: NaN => mode\n",
    "            - company: NaN => 'unknown'\n",
    "            - position: NaN => 'unknown'\n",
    "            - email: NaN => 'unknown'\n",
    "        '''\n",
    "\n",
    "        self.df['payment_method'] = self.df['payment_method'].fillna('unknown')\n",
    "        self.df['gender'] = self.df['gender'].fillna(self.df['gender'].mode()[0])\n",
    "        self.df['business_nature'] = self.df['business_nature'].fillna(self.df['business_nature'].mode()[0])\n",
    "        self.df['company'] = self.df['company'].fillna('unknown')\n",
    "        self.df['position'] = self.df['position'].fillna('unknown')\n",
    "        self.df['email'] = self.df['email'].fillna('unknown')\n",
    "\n",
    "        return self.df\n",
    "\n",
    "    \n",
    "    def handle_outliers(self):\n",
    "        '''\n",
    "            This method handles outlier values in a provided dataframe based on the following logic.\n",
    "            - target_mean: remove values over 200,000\n",
    "            - target_std: remove values over 2,000\n",
    "        '''\n",
    "        self.df = self.df[self.df['target_mean'] < 200000]\n",
    "        self.df = self.df[self.df['target_std'] < 2000]\n",
    "\n",
    "        return self.df\n",
    "\n",
    "    \n",
    "    def correct_str_values(self, col, corrections):\n",
    "        '''\n",
    "            This method replaces str values contained in a provided dictionary, based on a provided column name.\n",
    "        '''\n",
    "        for old_str, new_str in corrections.items():\n",
    "            self.df[col] = self.df[col].astype(str).str.replace(old_str, new_str)\n",
    "\n",
    "        return self.df\n",
    "\n",
    "    \n",
    "    def trim_whitespace(self, col):\n",
    "            '''\n",
    "                This method trims string whitespace in a dataframe based on a provided column name.\n",
    "            '''\n",
    "            self.df[col] = self.df[col].str.strip()\n",
    "    \n",
    "            return self.df\n",
    "    \n",
    "    \n",
    "    def capitalize_words(self, col):\n",
    "        '''\n",
    "            This method capitalizes all words in a string in a dataframe based on a provided column name.\n",
    "            If the string length is smaller than 3 (e.g. 'IT') it converts the entire string to uppercase.\n",
    "        '''\n",
    "        self.df[col] = self.df[col].apply(lambda x: str.title(x) if len(x) > 2 else str.upper(x))\n",
    "\n",
    "        return self.df\n",
    "\n",
    "\n",
    "    def lowercase(self, col):\n",
    "            '''\n",
    "                This method converts strings to lowercase in a dataframe based on a provided column name.\n",
    "            '''\n",
    "            self.df[col] = self.df[col].str.lower()\n",
    "    \n",
    "            return self.df\n",
    "\n",
    "\n",
    "    def remove_punctuation(self, col):\n",
    "            '''\n",
    "                This method removes punctuation and special characters from strings in a dataframe based on a provided column name.\n",
    "            '''\n",
    "            self.df[col] = self.df[col].astype(str).str.translate(str.maketrans('', '', string.punctuation))\n",
    "    \n",
    "            return self.df\n",
    "\n",
    "    \n",
    "    def handle_duplicates(self, cols):\n",
    "            '''\n",
    "                This method drops duplicate rows in a dataframe based on a provided list of column names.\n",
    "            '''\n",
    "            self.df = self.df.drop_duplicates(subset=cols, keep='first', ignore_index=True)\n",
    "    \n",
    "            return self.df"
   ]
  },
  {
   "cell_type": "code",
   "execution_count": 11,
   "id": "691ca037-f263-4229-97e5-45b989db5a65",
   "metadata": {},
   "outputs": [],
   "source": [
    "# Create an instance of the Data_Cleaner class\n",
    "customer_data_cleaner = Data_Cleaner(customer_data)\n",
    "\n",
    "# Handle missing values\n",
    "customer_data_clean = customer_data_cleaner.handle_missing_values()\n",
    "\n",
    "# Handle outliers\n",
    "customer_data_clean = customer_data_cleaner.handle_outliers()"
   ]
  },
  {
   "cell_type": "code",
   "execution_count": 12,
   "id": "69ce5682-19fc-4a04-8ca5-ba32fbabb805",
   "metadata": {},
   "outputs": [
    {
     "name": "stdout",
     "output_type": "stream",
     "text": [
      "             Column  Missing %\n",
      "0                id        0.0\n",
      "1               age        0.0\n",
      "2            gender        0.0\n",
      "3             email        0.0\n",
      "4   business_nature        0.0\n",
      "5           company        0.0\n",
      "6          position        0.0\n",
      "7    payment_method        0.0\n",
      "8        first_name        0.0\n",
      "9         last_name        0.0\n",
      "10      target list        0.0\n",
      "11      target_mean        0.0\n",
      "12       target_std        0.0\n",
      "13     target_count        0.0\n"
     ]
    }
   ],
   "source": [
    "# Making sure all missing values were handled\n",
    "print_missing_percentage(customer_data_clean)"
   ]
  },
  {
   "cell_type": "markdown",
   "id": "c4f838c5-2c73-4120-b05c-3d94e76c9720",
   "metadata": {
    "jp-MarkdownHeadingCollapsed": true
   },
   "source": [
    "#### Cleaning the `email` column"
   ]
  },
  {
   "cell_type": "code",
   "execution_count": 13,
   "id": "77423e8a-e8bd-4807-ae0f-c4be593acc99",
   "metadata": {},
   "outputs": [],
   "source": [
    "# Trim whitespace\n",
    "customer_data_clean = customer_data_cleaner.trim_whitespace('email')\n",
    "\n",
    "# Convert to lowercase\n",
    "customer_data_clean = customer_data_cleaner.lowercase('email')\n",
    "\n",
    "# Create dictionary of correct email values\n",
    "email_corrections = {\n",
    "            'gamil.com': 'gmail.com',\n",
    "            'gmail.con': 'gmail.com'\n",
    "        }\n",
    "\n",
    "# Apply corrections to dataframe\n",
    "customer_data_clean = customer_data_cleaner.correct_str_values('email', email_corrections)"
   ]
  },
  {
   "cell_type": "markdown",
   "id": "d102f939-9460-48cb-ab18-7ad6815736ef",
   "metadata": {
    "jp-MarkdownHeadingCollapsed": true
   },
   "source": [
    "#### Cleaning the `business_nature` column"
   ]
  },
  {
   "cell_type": "code",
   "execution_count": 14,
   "id": "e9b1daf2-c270-487f-9cea-06cf447df9c3",
   "metadata": {},
   "outputs": [],
   "source": [
    "# Trim whitespace\n",
    "customer_data_clean = customer_data_cleaner.trim_whitespace('business_nature')\n",
    "\n",
    "# Capitalize all string words\n",
    "customer_data_clean = customer_data_cleaner.capitalize_words('business_nature')"
   ]
  },
  {
   "cell_type": "markdown",
   "id": "31018c0d-7caf-4ec9-aa77-6823d0ec6487",
   "metadata": {
    "jp-MarkdownHeadingCollapsed": true
   },
   "source": [
    "#### Cleaning the `company` column"
   ]
  },
  {
   "cell_type": "markdown",
   "id": "b96dc81d-593b-4127-b6f5-39d6af0279eb",
   "metadata": {},
   "source": [
    "The position column needs significant cleaning. We will perform the following steps in order to more accurately group companies: \n",
    "1. Translate top 20 chinese company text values to English\n",
    "2. Convert to lowercase (to ensure consistency and avoid case-sensitive mismatching later on).\n",
    "3. Remove Punctuation and Special Characters\n",
    "4. Trim Whitespace\n",
    "5. Standardize common abbreviations and terms (e.g Ltd. vs Limited, Inc. vs Incorporated)"
   ]
  },
  {
   "cell_type": "markdown",
   "id": "e8a98c46-1791-4070-a005-96d17ea8201b",
   "metadata": {
    "jp-MarkdownHeadingCollapsed": true
   },
   "source": [
    "##### Translate Chinese Text"
   ]
  },
  {
   "cell_type": "markdown",
   "id": "4ee91d57-3ee5-4d5f-b66b-be53990e0aea",
   "metadata": {},
   "source": [
    "* I considered the option of using an external library like `googleTrans' or 'translate' for this task. However, I encountered many issues when using the free versions such as the servers being overloaded or offline for unpredictable portions of the day. This felt like an unreliable way to build this project, and would expose myself to the risk of it not working as intended for other users.\n",
    "* Manual translation was also an option I considered, but would probably take a large amount of time.\n",
    "* Therefore, I decided that manual translation of the top values should increase the reliability of the data enough to proceed with the analyses."
   ]
  },
  {
   "cell_type": "code",
   "execution_count": 15,
   "id": "1587d01f-a49e-49ec-a3b9-2e22f7353747",
   "metadata": {},
   "outputs": [],
   "source": [
    "# Create dictionary of translated top company values\n",
    "company_translations = {\n",
    "    '大家樂': 'cafe de coral',\n",
    "    '消防處': 'fire department',\n",
    "    '機場保安有限公司': 'airport security',\n",
    "    '順豐速運': 'sf express',\n",
    "    '醫院管理局': 'hospital authority',\n",
    "    '大快活': 'great happiness',\n",
    "    '中國建築': 'chinese arcitecture',\n",
    "    '懲教署': 'correctional services depertment',\n",
    "    '香港政府': 'hk government',\n",
    "    '美聯物業': 'midland realty',\n",
    "    '天和工程有限公司': 'tianhe engineering',\n",
    "    '自僱': 'self employed',\n",
    "    '美心集團': \"maxim's\",\n",
    "    '香港賽馬會': 'hk jockey club',\n",
    "    '康業服務有限公司': 'hong yip services',\n",
    "    '牛奶公司': 'milk company',\n",
    "    '金門建築有限公司': 'kinmen construction',\n",
    "    '的士司機': 'taxi driver',\n",
    "    '啟勝管理服務有限公司': 'kai shing management services',\n",
    "    '香港海關': 'hk customs and excise department',\n",
    "    '瑪麗醫院': 'queen mary hospital',\n",
    "    '中原地產': 'centaline real estate'\n",
    "}\n",
    "\n",
    "# Apply translations to dataframe\n",
    "customer_data_clean = customer_data_cleaner.correct_str_values('company', company_translations)"
   ]
  },
  {
   "cell_type": "markdown",
   "id": "961ee829-a6b9-4dde-a72e-10a9b083de6f",
   "metadata": {
    "jp-MarkdownHeadingCollapsed": true
   },
   "source": [
    "##### Perform other string cleaning operations"
   ]
  },
  {
   "cell_type": "code",
   "execution_count": 16,
   "id": "b45dbb75-077f-4c31-ab15-276243fcede9",
   "metadata": {},
   "outputs": [],
   "source": [
    "# Convert to lowercase\n",
    "customer_data_clean = customer_data_cleaner.lowercase('company')\n",
    "\n",
    "# Remove punctuation and special characters\n",
    "customer_data_clean = customer_data_cleaner.remove_punctuation('company')\n",
    "\n",
    "# Create dictionary of correct company values\n",
    "company_corrections = {\n",
    "        '\\t': '',\n",
    "        'limited': '',\n",
    "        'ltd': '',\n",
    "        'the': '',\n",
    "        'hong kong': 'hk',\n",
    "        'group': '',\n",
    "        'groups': '',\n",
    "        ' co ': ''\n",
    "        }\n",
    "\n",
    "# Apply corrections to dataframe\n",
    "customer_data_clean = customer_data_cleaner.correct_str_values('company', company_corrections)\n",
    "\n",
    "# Trim whitespace\n",
    "customer_data_clean = customer_data_cleaner.trim_whitespace('company')"
   ]
  },
  {
   "cell_type": "markdown",
   "id": "dd1956f6-ee26-4910-ae06-85a940e6d450",
   "metadata": {
    "jp-MarkdownHeadingCollapsed": true
   },
   "source": [
    "#### Cleaning the `position` column"
   ]
  },
  {
   "cell_type": "markdown",
   "id": "abbd72cd-c6ff-4142-879a-635718258ac2",
   "metadata": {},
   "source": [
    "The position column also needs significant cleaning. We will perform the following steps in order to more accurately group positions: \n",
    "1. Trim Whitespace\n",
    "2. Capitalize all words\n",
    "3. Translate the top 10 Chinese positions into English\n",
    "4. Group together 'cook' and 'chef'\n",
    "5. Group together 'sales manager' and 'sales'\n",
    "6. Change 'Security Guard員' into 'Security Guard'"
   ]
  },
  {
   "cell_type": "code",
   "execution_count": 18,
   "id": "5f724b0e-ff0f-4cd5-a5aa-5bafd1cdf4b9",
   "metadata": {},
   "outputs": [],
   "source": [
    "# Trim whitespace\n",
    "customer_data_clean = customer_data_cleaner.trim_whitespace('position')\n",
    "\n",
    "# Capitalize all string words in columns\n",
    "customer_data_clean = customer_data_cleaner.capitalize_words('position')\n",
    "\n",
    "# Create dictionary of correct position values\n",
    "position_corrections = {\n",
    "    'Cook': 'Chef',\n",
    "    'Sales manager': 'Sales',\n",
    "    '司機': 'Driver',\n",
    "    '廚師': 'Chef',\n",
    "    '文員': 'Clerk',\n",
    "    '技工': 'Mechanic',\n",
    "    '倉務員': 'Warehouseman',\n",
    "    '經理': 'Manager',\n",
    "    '保安': 'Security Guard',\n",
    "    '售貨員': 'Sales',\n",
    "    '侍應': 'Waiter',\n",
    "    '技術員': 'Technician',\n",
    "    'Security Guard員': 'Security Guard'    \n",
    "}\n",
    "\n",
    "# Apply corrections to dataframe\n",
    "customer_data_clean = customer_data_cleaner.correct_str_values('position', position_corrections)"
   ]
  },
  {
   "cell_type": "markdown",
   "id": "590c781a-b556-4837-a646-527fff25cfdc",
   "metadata": {
    "jp-MarkdownHeadingCollapsed": true
   },
   "source": [
    "#### Remove Duplicate Rows"
   ]
  },
  {
   "cell_type": "code",
   "execution_count": 19,
   "id": "36f4ff4a-b35a-4461-ad38-00484786f131",
   "metadata": {},
   "outputs": [],
   "source": [
    "# Remove duplicate rows based on the following columns\n",
    "customer_data_clean = customer_data_cleaner.handle_duplicates(['first_name', 'last_name', 'age', 'gender', 'email', 'company', 'position'])"
   ]
  },
  {
   "cell_type": "markdown",
   "id": "2a7a38fe-ea0f-40a9-aabb-aeb7925428a0",
   "metadata": {},
   "source": [
    "### 3. Data Summarization and Exploration"
   ]
  },
  {
   "cell_type": "markdown",
   "id": "3ebf0ee6-91fe-42c3-a391-262342e89a4c",
   "metadata": {
    "jp-MarkdownHeadingCollapsed": true
   },
   "source": [
    "#### Descriptive Statistics"
   ]
  },
  {
   "cell_type": "markdown",
   "id": "e480db34-637e-451f-bd67-6307dba1804b",
   "metadata": {},
   "source": [
    "First, we will calculate summary statistics for numerical features in the dataset."
   ]
  },
  {
   "cell_type": "code",
   "execution_count": 20,
   "id": "45cabd35-bae5-4be3-aca7-714fc473eb86",
   "metadata": {},
   "outputs": [
    {
     "name": "stdout",
     "output_type": "stream",
     "text": [
      "           age  target_mean  target_std  target_count\n",
      "count  9078.00      9078.00     9078.00       9078.00\n",
      "mean     34.39     29793.90      169.82          2.98\n",
      "std      10.15     19868.00      188.30          1.42\n",
      "min      18.00     -1950.88        0.00          1.00\n",
      "25%      26.00     18580.13       30.52          2.00\n",
      "50%      32.00     24257.49      132.73          3.00\n",
      "75%      41.00     33677.59      235.86          4.00\n",
      "max      64.00    199720.77     1991.43          5.00\n"
     ]
    }
   ],
   "source": [
    "# Gererate descriptive statistics for the numerical columns\n",
    "summary_stats = customer_data_clean[['age', 'target_mean', 'target_std', 'target_count']].describe()\n",
    "\n",
    "# Display the results rounded to 2 decimal places\n",
    "print(summary_stats.round(2))"
   ]
  },
  {
   "cell_type": "markdown",
   "id": "d76b63b7-be30-462e-934a-1f54517b07f8",
   "metadata": {},
   "source": [
    "Next, we will summarize our categorical features using frequency tables."
   ]
  },
  {
   "cell_type": "code",
   "execution_count": 21,
   "id": "e92e270c-483f-4864-b169-c5a8aa8b4f16",
   "metadata": {},
   "outputs": [],
   "source": [
    "# Create function for creating and printing freuqnecy tables\n",
    "def display_freq_table(df, cols):\n",
    "    \"\"\"\n",
    "    This function takes in a list of column names and for each of them creates and prints a frequency table\n",
    "    \"\"\"\n",
    "    for col in cols:\n",
    "        # Calculate unique value counts\n",
    "        col_value_counts = (df[col].value_counts(normalize=True) * 100).round(2)\n",
    "        freq_table = col_value_counts.to_frame(name='%')\n",
    "    \n",
    "        # Display the top 5 categories (or all if less than 5)\n",
    "        print(f'\\nFrequency Table for {col}:')\n",
    "        print(freq_table.head(5))"
   ]
  },
  {
   "cell_type": "code",
   "execution_count": 22,
   "id": "ff499a6d-3e66-436b-8af7-4f114197fa05",
   "metadata": {},
   "outputs": [
    {
     "name": "stdout",
     "output_type": "stream",
     "text": [
      "\n",
      "Frequency Table for gender:\n",
      "           %\n",
      "gender      \n",
      "Male    75.8\n",
      "Female  24.2\n",
      "\n",
      "Frequency Table for email:\n",
      "                  %\n",
      "email              \n",
      "gmail.com     41.72\n",
      "yahoo.com.hk  24.56\n",
      "hotmail.com   15.43\n",
      "yahoo.com      2.39\n",
      "unknown        1.69\n",
      "\n",
      "Frequency Table for business_nature:\n",
      "                        %\n",
      "business_nature          \n",
      "Other               14.00\n",
      "Retail / Wholesale  11.62\n",
      "Food Services       10.35\n",
      "Construction         8.21\n",
      "Transportation       6.32\n",
      "\n",
      "Frequency Table for company:\n",
      "                       %\n",
      "company                 \n",
      "unknown             2.25\n",
      "hsbc                0.44\n",
      "hospital authority  0.40\n",
      "pccw                0.33\n",
      "hkt                 0.31\n",
      "\n",
      "Frequency Table for position:\n",
      "             %\n",
      "position      \n",
      "Sales     4.78\n",
      "Clerk     3.57\n",
      "Driver    2.96\n",
      "Manager   2.71\n",
      "Chef      2.67\n",
      "\n",
      "Frequency Table for payment_method:\n",
      "                    %\n",
      "payment_method       \n",
      "A               47.75\n",
      "unknown         35.55\n",
      "B                8.47\n",
      "C                8.23\n"
     ]
    }
   ],
   "source": [
    "# Generate frequency tables for the categorical columns\n",
    "categorical_columns = ['gender', 'email', 'business_nature', 'company', 'position', 'payment_method']\n",
    "\n",
    "display_freq_table(customer_data_clean, categorical_columns)"
   ]
  },
  {
   "cell_type": "markdown",
   "id": "a8eeef83-1862-413c-a0ce-dd2036cb939c",
   "metadata": {
    "jp-MarkdownHeadingCollapsed": true
   },
   "source": [
    "#### Data Visualization"
   ]
  },
  {
   "cell_type": "markdown",
   "id": "a31adf8e-04e2-43b6-bd60-9a4fe52f765b",
   "metadata": {},
   "source": [
    "Now that we have clean customer data, let's put it all together and take a visual look at our customers."
   ]
  },
  {
   "cell_type": "code",
   "execution_count": 23,
   "id": "524b44bb-500f-4cdd-bf6e-16a8b6e243f4",
   "metadata": {},
   "outputs": [
    {
     "data": {
      "image/png": "[encoded data removed]",
      "text/plain": [
       "<Figure size 1280x1600 with 8 Axes>"
      ]
     },
     "metadata": {},
     "output_type": "display_data"
    }
   ],
   "source": [
    "# Create figure and axes\n",
    "fig, ax = plt.subplots(nrows=4, ncols=2, figsize=(16,20))\n",
    "fig.suptitle('Customer Information\\n', fontsize=20, fontweight='bold')\n",
    "fig.subplots_adjust(top=1.5)\n",
    "\n",
    "# Plot a histogram of the 'age' column\n",
    "ax[0, 0].hist(customer_data_clean['age'], bins=20, color='skyblue', alpha=0.7)\n",
    "\n",
    "# Set age labels and title\n",
    "ax[0, 0].set_xlabel('Age')\n",
    "ax[0, 0].set_ylabel('Frequency')\n",
    "ax[0, 0].set_title('Distribution of Customer Age')\n",
    "\n",
    "# Plot a pie chart of the 'gender' column\n",
    "gender_counts = customer_data_clean['gender'].value_counts()\n",
    "wedges, texts, autotexts= ax[0, 1].pie(gender_counts, labels=gender_counts.index, autopct='%1.1f%%', startangle=140)\n",
    "\n",
    "# Change font color or percentages\n",
    "for autotext in autotexts:\n",
    "    autotext.set_color('#16180c')\n",
    "\n",
    "# Change wedge colors\n",
    "wedges[0].set_color('skyblue')\n",
    "wedges[1].set_color('#FC712B')\n",
    "\n",
    "# Set gender title\n",
    "ax[0, 1].set_title('Distribution of Customer Gender')\n",
    "\n",
    "# Get the top 3 email domains\n",
    "top_email_domains = customer_data_clean['email'].value_counts().head(3)\n",
    "top_email_domains_pct = top_email_domains.sum() * 100 / customer_data_clean['email'].notnull().sum()\n",
    "\n",
    "# Plot a bar chart of the top email domains\n",
    "ax[1, 0].bar(top_email_domains.index, top_email_domains.values, color='skyblue')\n",
    "\n",
    "# Set email labels and title\n",
    "ax[1, 0].set_xlabel('Email Domain')\n",
    "ax[1, 0].set_ylabel('Frequency')\n",
    "ax[1, 0].set_title('Top 3 Email Domains')\n",
    "\n",
    "# Plot a pie chart of the 'payment_method' column\n",
    "known_payment_methods = customer_data_clean[customer_data_clean['payment_method'] != 'Unknown']['payment_method']\n",
    "top_payment_method = known_payment_methods.value_counts()\n",
    "wedges, texts, autotexts = ax[1, 1].pie(top_payment_method, labels=top_payment_method.index, autopct='%1.1f%%', startangle=140)\n",
    "\n",
    "# Change font color or percentages\n",
    "for autotext in autotexts:\n",
    "    autotext.set_color('#16180c')\n",
    "\n",
    "# Change wedge colors\n",
    "wedges[0].set_color('skyblue')\n",
    "wedges[1].set_color('#FC712B')\n",
    "wedges[2].set_color('#FECD5A')\n",
    "\n",
    "# Set payment method title\n",
    "ax[1, 1].set_title(\"Distribution of Customer's Preferred Payment Method\")\n",
    "\n",
    "# Get value counts for 'business nature'\n",
    "business_nature_counts = customer_data_clean['business_nature'].value_counts(ascending=True).tail(10)\n",
    "\n",
    "# Plot a horizontal bar chart of the business nature distribution\n",
    "ax[2, 0].barh(business_nature_counts.index, business_nature_counts.values, color='skyblue')\n",
    "\n",
    "# Set business nature labels and title\n",
    "ax[2, 0].set_xlabel('Frequency')\n",
    "ax[2, 0].set_ylabel('Business Nature')\n",
    "ax[2, 0].set_title('Distribution of Customer Business Nature')\n",
    "\n",
    "# Get value counts for top positions\n",
    "top_positions = customer_data_clean['position'].value_counts(ascending=True).tail(10)\n",
    "\n",
    "# Plot a bar chart of the top positions\n",
    "ax[2, 1].barh(top_positions.index, top_positions.values, color='skyblue')\n",
    "\n",
    "# Set top positions labels and title\n",
    "ax[2, 1].set_xlabel('Customer Position')\n",
    "ax[2, 1].set_ylabel('Frequency')\n",
    "ax[2, 1].set_title('Top 10 Customer Positions')\n",
    "\n",
    "# Convert units of target mean to thousands\n",
    "target_mean_thousands = customer_data_clean['target_mean'] / 1000\n",
    "target_mean_thousands = target_mean_thousands.round()\n",
    "\n",
    "# Plot a histogram of the 'target_mean' column\n",
    "ax[3, 0].hist(target_mean_thousands, bins=100, color='skyblue', alpha=0.7)\n",
    "\n",
    "# Set x axis limit\n",
    "ax[3, 0].set_xlim(left=0, right=200)\n",
    "\n",
    "# Set target mean labels and title\n",
    "ax[3, 0].set_xlabel('Target Mean (Thousands)')\n",
    "ax[3, 0].set_ylabel('Frequency')\n",
    "ax[3, 0].set_title('Distribution of Target Mean')\n",
    "\n",
    "# Omit rows with a std of 0 (which indicates 1 value in target list)\n",
    "target_std = customer_data_clean[customer_data_clean['target_std'] > 0]\n",
    "\n",
    "# Plot a histogram of the 'target_std' column\n",
    "ax[3, 1].hist(target_std['target_std'], bins=100, color='skyblue', alpha=0.7)\n",
    "\n",
    "# Set x axis limit\n",
    "# ax.set_xlim(left=0, right=10000)\n",
    "\n",
    "# Set target std labels and title\n",
    "ax[3, 1].set_xlabel('Target Std')\n",
    "ax[3, 1].set_ylabel('Frequency')\n",
    "ax[3, 1].set_title('Distribution of Target Std')\n",
    "\n",
    "plt.tight_layout();"
   ]
  },
  {
   "cell_type": "markdown",
   "id": "0d501d6b-5fac-4819-8b71-baad397ad648",
   "metadata": {
    "jp-MarkdownHeadingCollapsed": true
   },
   "source": [
    "#### Distribution Analysis"
   ]
  },
  {
   "cell_type": "markdown",
   "id": "5ba9b35a-58b0-426e-8e07-d8c42b910d22",
   "metadata": {},
   "source": [
    "Let's examine the shape of the distribution for our numerical features:\n",
    "* **Age** - This looks like a normal distribution skewed to the right\n",
    "* **Target Mean** - This looks like an asymetric distribution skewed to the right\n",
    "* **Target Std** - This looks like an asymetric distribution skewed to the right"
   ]
  },
  {
   "cell_type": "markdown",
   "id": "f58a4dad-6274-4418-9e35-6633a6d8e37d",
   "metadata": {
    "jp-MarkdownHeadingCollapsed": true
   },
   "source": [
    "### 4. Conclusion"
   ]
  },
  {
   "cell_type": "markdown",
   "id": "9f454f1b-9c72-4ec7-8595-3ae85cca9434",
   "metadata": {},
   "source": [
    "After exploring and visualizing our data we observe the following:\n",
    "1. **Demographics**:\n",
    "    * The majority of our customers are male (***75.8%***).\n",
    "    * The average age of our customers is ***34.4*** with a std of ***10.1*** (which suggest a relatively wide age range among customers).\n",
    "2. **Business Nature**:\n",
    "    * Our customers span a wide range of companies.\n",
    "    * We have a large concentration of customers in the **'Retail / Wholesale'** and **'Food Services'** industries.\n",
    "    * The most common positions of our customers are **'Sales'** and **'Clerk'**, with **'driver'**, **'manager'** and **'chef'** close behind. \n",
    "3. **Online Behavior**:\n",
    "    * Customers utilize a diverse range of email providers, **'gmail.com'**, **'yahoo.com.hk'** and **'hotmail.com'** are the most common.\n",
    "    * Approximately ***80%*** of our customers use these **3** email providers.\n",
    "    * Most of our customers prefer payment method **'A'**\n",
    "4. **Target**:\n",
    "    * Customers have target counts that are evenly distributed between ***1*** to ***5***.\n",
    "    * Customers have a wide range of target mean values ranging from ***-1950*** to ***199,721***\n",
    "    * Customers have high variability within their targets with std ranging from ***0*** to ***1991***"
   ]
  },
  {
   "cell_type": "markdown",
   "id": "9aa5f550-af69-425d-9283-506dcb15c71b",
   "metadata": {
    "jp-MarkdownHeadingCollapsed": true
   },
   "source": [
    "#### Potential areas of improvement:"
   ]
  },
  {
   "cell_type": "markdown",
   "id": "56bdd714-fc70-467f-b437-a5109d1638b1",
   "metadata": {},
   "source": [
    "* A considerable amount of customers lack identifiable company and industry information (***2.5%*** and ***14%*** respectively), and comprise our highest category in both features.\n",
    "* Positions like **'Clerk'** and **'manager'** are generic titles and perhaps should be collected in the future as something more specific.\n",
    "* There is a large portion of missing data for payment method (***35.5%***). We would need to take this into account when making decisions based on this."
   ]
  },
  {
   "cell_type": "markdown",
   "id": "8e0ef3e0-a41a-4172-8e4b-5b1f51ccb85e",
   "metadata": {
    "jp-MarkdownHeadingCollapsed": true
   },
   "source": [
    "#### Adding external data"
   ]
  },
  {
   "cell_type": "markdown",
   "id": "493e8945-c9d3-45d1-b1a8-c0c1bcb19f1b",
   "metadata": {},
   "source": [
    "If I could take data from the web here are some features that I could add:\n",
    "1. **Purchase History**:\n",
    "  * Include details like products purchased, purchase dates, amounts spent and frequency of purchases.\n",
    "  * This could allow us analyse customer buying patterns and preferences.\n",
    "2. **Website Browsing Behavior**:\n",
    "  * Include data on pages visited, time spent on each page, products viewed and search queries.\n",
    "  * This could help identify potential leads, optimize website design and imnprove product recommendations.\n",
    "3. **Social Media Engagement**:\n",
    "  * Include customer interactions with the company's social media pages, such as likes, comments, shares and follows.\n",
    "  * This could help track social media campaign effectiveness and understand customer opinions.\n",
    "4. **Industry and Company Information**:\n",
    "  * For customers with known companies, gather information about their industry, company size and financial performance.\n",
    "  * This could provide more context for customer purchasing behavior and decision-making processes."
   ]
  },
  {
   "cell_type": "markdown",
   "id": "753c5f7e-faa0-4e69-bb5d-8202544f0437",
   "metadata": {},
   "source": [
    "To relate an external dataset to the samples in our dataset, we would need a common identifier or feature that exists in both datasets. In our dataset we have the following features we could potentially use for linking:\n",
    "* **Email** - If the external dataset also contains customer email addresses, we could use those as a unique identifier to match records.\n",
    "* **Company** - If the external dataset has information about companies, we could link them based on the 'company' column (As we will do in part 2 of this project)"
   ]
  },
  {
   "cell_type": "markdown",
   "id": "9e169bfb-2db1-4aba-a7e6-482f4fc3e9c5",
   "metadata": {
    "jp-MarkdownHeadingCollapsed": true
   },
   "source": [
    "#### Potential caveats to consider:"
   ]
  },
  {
   "cell_type": "markdown",
   "id": "3ff8a34a-23dd-47d0-aa7c-2bd10c75bae0",
   "metadata": {},
   "source": [
    "* **Data quality** - The external dataset might have different data quality standards, inconsistensies in formatting or missing values, making it difficult to accurately match records.\n",
    "* **Linking accuracy** - Even with a common identifier, there is a risk of false positives or false negatives in the matching process, which can lower the reliability of the combined dataset.\n",
    "* **Representative** - The external dataset might not be representative of our customer base which might lead to biased or inaccurate conclusions when combining the data."
   ]
  },
  {
   "cell_type": "markdown",
   "id": "fd232884-4406-449e-b169-b912398fd149",
   "metadata": {
    "jp-MarkdownHeadingCollapsed": true
   },
   "source": [
    "## <center>Company Data Analysis</center>"
   ]
  },
  {
   "cell_type": "markdown",
   "id": "ecce2cfb-e056-40d8-a30d-4025ae4bf817",
   "metadata": {
    "jp-MarkdownHeadingCollapsed": true
   },
   "source": [
    "### 1. Load and Inspect the Data"
   ]
  },
  {
   "cell_type": "markdown",
   "id": "d592e165-7b69-4693-bb1a-6637abcf6177",
   "metadata": {},
   "source": [
    "Let's start by importing our company data excel file into a dataframe"
   ]
  },
  {
   "cell_type": "code",
   "execution_count": 24,
   "id": "ffc4642d-a4a6-4045-b2d0-b6a514164485",
   "metadata": {},
   "outputs": [
    {
     "data": {
      "text/html": [
       "<div>\n",
       "<style scoped>\n",
       "    .dataframe tbody tr th:only-of-type {\n",
       "        vertical-align: middle;\n",
       "    }\n",
       "\n",
       "    .dataframe tbody tr th {\n",
       "        vertical-align: top;\n",
       "    }\n",
       "\n",
       "    .dataframe thead th {\n",
       "        text-align: right;\n",
       "    }\n",
       "</style>\n",
       "<table border=\"1\" class=\"dataframe\">\n",
       "  <thead>\n",
       "    <tr style=\"text-align: right;\">\n",
       "      <th></th>\n",
       "      <th>company_id</th>\n",
       "      <th>name</th>\n",
       "      <th>domain</th>\n",
       "      <th>business_nature</th>\n",
       "      <th>employee_number</th>\n",
       "      <th>type</th>\n",
       "      <th>market_cap</th>\n",
       "    </tr>\n",
       "  </thead>\n",
       "  <tbody>\n",
       "    <tr>\n",
       "      <th>0</th>\n",
       "      <td>\"00123122\"</td>\n",
       "      <td>HSBC</td>\n",
       "      <td>www.hsbc.com/</td>\n",
       "      <td>banking</td>\n",
       "      <td>226059</td>\n",
       "      <td>public</td>\n",
       "      <td>78.45billion</td>\n",
       "    </tr>\n",
       "    <tr>\n",
       "      <th>1</th>\n",
       "      <td>878434523</td>\n",
       "      <td>AIA</td>\n",
       "      <td>www.aia.com</td>\n",
       "      <td>insurance</td>\n",
       "      <td>0</td>\n",
       "      <td>public</td>\n",
       "      <td>1.12T</td>\n",
       "    </tr>\n",
       "    <tr>\n",
       "      <th>2</th>\n",
       "      <td>3423656</td>\n",
       "      <td>MTR</td>\n",
       "      <td>http://www.mtr.com.hk/en/customer/main/index.html</td>\n",
       "      <td>Railway</td>\n",
       "      <td>28035</td>\n",
       "      <td>public</td>\n",
       "      <td>271B</td>\n",
       "    </tr>\n",
       "    <tr>\n",
       "      <th>3</th>\n",
       "      <td>452352</td>\n",
       "      <td>PCCW</td>\n",
       "      <td>http://www.pccw.com/</td>\n",
       "      <td>communications</td>\n",
       "      <td>22800</td>\n",
       "      <td>public</td>\n",
       "      <td>31.6001B</td>\n",
       "    </tr>\n",
       "    <tr>\n",
       "      <th>4</th>\n",
       "      <td>4342ff34</td>\n",
       "      <td>HKT</td>\n",
       "      <td>hkt.com</td>\n",
       "      <td>Telecom</td>\n",
       "      <td>\"15900.00\"</td>\n",
       "      <td>public</td>\n",
       "      <td>$80.45B</td>\n",
       "    </tr>\n",
       "    <tr>\n",
       "      <th>5</th>\n",
       "      <td>534534</td>\n",
       "      <td>Manulife</td>\n",
       "      <td>https://www.manulife.com/</td>\n",
       "      <td>insurance</td>\n",
       "      <td>34000</td>\n",
       "      <td>public</td>\n",
       "      <td>$47.4 billion</td>\n",
       "    </tr>\n",
       "    <tr>\n",
       "      <th>6</th>\n",
       "      <td>232131</td>\n",
       "      <td>Cathay Pacific Airways</td>\n",
       "      <td>www.cathaypacific.com</td>\n",
       "      <td>airline</td>\n",
       "      <td>35000</td>\n",
       "      <td>public</td>\n",
       "      <td>$42.29 B</td>\n",
       "    </tr>\n",
       "    <tr>\n",
       "      <th>7</th>\n",
       "      <td>123555342</td>\n",
       "      <td>Hong Kong Police Force</td>\n",
       "      <td>https://www.police.gov.hk</td>\n",
       "      <td>law enforcement</td>\n",
       "      <td>36681</td>\n",
       "      <td>government</td>\n",
       "      <td>NaN</td>\n",
       "    </tr>\n",
       "    <tr>\n",
       "      <th>8</th>\n",
       "      <td>621621320</td>\n",
       "      <td>KPMG</td>\n",
       "      <td>home.kpmg</td>\n",
       "      <td>consulting</td>\n",
       "      <td>227000</td>\n",
       "      <td>NaN</td>\n",
       "      <td>NaN</td>\n",
       "    </tr>\n",
       "    <tr>\n",
       "      <th>9</th>\n",
       "      <td>998411df</td>\n",
       "      <td>HAECO</td>\n",
       "      <td>www.haeco.com</td>\n",
       "      <td>\\tAerospace</td>\n",
       "      <td>16641</td>\n",
       "      <td>public</td>\n",
       "      <td>NaN</td>\n",
       "    </tr>\n",
       "    <tr>\n",
       "      <th>10</th>\n",
       "      <td>df879987</td>\n",
       "      <td>Prudential</td>\n",
       "      <td>https://www.prudential.com/</td>\n",
       "      <td>insurance</td>\n",
       "      <td>41671</td>\n",
       "      <td>public</td>\n",
       "      <td>40.49B</td>\n",
       "    </tr>\n",
       "  </tbody>\n",
       "</table>\n",
       "</div>"
      ],
      "text/plain": [
       "    company_id                    name  \\\n",
       "0   \"00123122\"                    HSBC   \n",
       "1    878434523                     AIA   \n",
       "2      3423656                     MTR   \n",
       "3       452352                    PCCW   \n",
       "4     4342ff34                     HKT   \n",
       "5       534534                Manulife   \n",
       "6       232131  Cathay Pacific Airways   \n",
       "7    123555342  Hong Kong Police Force   \n",
       "8    621621320                    KPMG   \n",
       "9     998411df                   HAECO   \n",
       "10    df879987              Prudential   \n",
       "\n",
       "                                               domain  business_nature  \\\n",
       "0                                       www.hsbc.com/          banking   \n",
       "1                                         www.aia.com       insurance    \n",
       "2   http://www.mtr.com.hk/en/customer/main/index.html          Railway   \n",
       "3                                http://www.pccw.com/  communications    \n",
       "4                                             hkt.com          Telecom   \n",
       "5                           https://www.manulife.com/       insurance    \n",
       "6                               www.cathaypacific.com          airline   \n",
       "7                           https://www.police.gov.hk  law enforcement   \n",
       "8                                           home.kpmg      consulting    \n",
       "9                                       www.haeco.com      \\tAerospace   \n",
       "10                        https://www.prudential.com/        insurance   \n",
       "\n",
       "   employee_number        type     market_cap  \n",
       "0           226059      public   78.45billion  \n",
       "1                0      public          1.12T  \n",
       "2            28035      public           271B  \n",
       "3            22800      public       31.6001B  \n",
       "4       \"15900.00\"      public        $80.45B  \n",
       "5            34000      public  $47.4 billion  \n",
       "6            35000      public       $42.29 B  \n",
       "7            36681  government            NaN  \n",
       "8           227000         NaN            NaN  \n",
       "9            16641      public            NaN  \n",
       "10           41671      public         40.49B  "
      ]
     },
     "execution_count": 24,
     "metadata": {},
     "output_type": "execute_result"
    }
   ],
   "source": [
    "company_data = pd.read_excel('./companies.xlsx')\n",
    "company_data"
   ]
  },
  {
   "cell_type": "code",
   "execution_count": 25,
   "id": "89b86ac1-eb34-4b47-b5bd-6d43e8be6913",
   "metadata": {},
   "outputs": [
    {
     "name": "stdout",
     "output_type": "stream",
     "text": [
      "<class 'pandas.core.frame.DataFrame'>\n",
      "RangeIndex: 11 entries, 0 to 10\n",
      "Data columns (total 7 columns):\n",
      " #   Column           Non-Null Count  Dtype \n",
      "---  ------           --------------  ----- \n",
      " 0   company_id       11 non-null     object\n",
      " 1   name             11 non-null     object\n",
      " 2   domain           11 non-null     object\n",
      " 3   business_nature  11 non-null     object\n",
      " 4   employee_number  11 non-null     object\n",
      " 5   type             10 non-null     object\n",
      " 6   market_cap       8 non-null      object\n",
      "dtypes: object(7)\n",
      "memory usage: 748.0+ bytes\n"
     ]
    }
   ],
   "source": [
    "company_data.info()"
   ]
  },
  {
   "cell_type": "markdown",
   "id": "ab4cd556-24c0-402a-a520-912641be3013",
   "metadata": {},
   "source": [
    "* We observe that we have ***11*** samples (companies) each with ***7*** variables.\n",
    "* We have ***2*** numerical features (**employee_number** and **market_cap**).\n",
    "* We have ***5*** categorical features (**company_id**, **name**, **domain**, **business nature** and **type**).\n",
    "* It apears that we are missing values in the **'type'** and **'market_cap'** features."
   ]
  },
  {
   "cell_type": "markdown",
   "id": "350c94a3-bfa5-4adb-86ba-2cfcfeadd286",
   "metadata": {
    "jp-MarkdownHeadingCollapsed": true
   },
   "source": [
    "### 2. Data Cleaning"
   ]
  },
  {
   "cell_type": "markdown",
   "id": "1ac73d3e-6bb0-468c-b937-9ff858a166b1",
   "metadata": {
    "jp-MarkdownHeadingCollapsed": true
   },
   "source": [
    "#### Removing unecessary `\"`"
   ]
  },
  {
   "cell_type": "markdown",
   "id": "b9281c0f-37e7-4857-84eb-7247ed8dce32",
   "metadata": {},
   "source": [
    "Let's start by removing unecessary `\"` from **company_id** and **employee_number**. Since there is only one observation in each that has `\"`, We can assume that this is a mistake and should correct and it. We can use our `Data_Cleaner` class from before to perform these tasks."
   ]
  },
  {
   "cell_type": "code",
   "execution_count": 26,
   "id": "00b9e00d-8343-45af-bdfd-3ba442ee243e",
   "metadata": {},
   "outputs": [],
   "source": [
    "# Create an instance of the Data_cleaner class\n",
    "company_data_cleaner = Data_Cleaner(company_data)\n",
    "\n",
    "for col in ['company_id', 'employee_number']:\n",
    "    company_data_clean = company_data_cleaner.correct_str_values(col, {'\"': ''})"
   ]
  },
  {
   "cell_type": "markdown",
   "id": "deb4c064-2bac-4dd7-af2b-986e4670e836",
   "metadata": {
    "jp-MarkdownHeadingCollapsed": true
   },
   "source": [
    "#### Cleaning the `name` column"
   ]
  },
  {
   "cell_type": "markdown",
   "id": "d6cc64fc-c445-4ae1-97c0-e40bf57f49a9",
   "metadata": {},
   "source": [
    "We need to convert the company names to lowercase so they adhere to the standard we used in the customer dataset."
   ]
  },
  {
   "cell_type": "code",
   "execution_count": 27,
   "id": "1b235bde-8a9e-46a2-ae73-9eecd090f8a4",
   "metadata": {},
   "outputs": [],
   "source": [
    "# Converting values to lowercase\n",
    "company_data_clean = company_data_cleaner.lowercase('name')\n",
    "\n",
    "# Trimming Whitespace\n",
    "company_data_clean = company_data_cleaner.trim_whitespace('name')\n",
    "\n",
    "# Apply corrections to dataframe\n",
    "company_data_clean = company_data_cleaner.correct_str_values('name', {'hong kong': 'hk'})"
   ]
  },
  {
   "cell_type": "markdown",
   "id": "e579c25a-c81e-46cb-95c7-31c6f8cbc250",
   "metadata": {
    "jp-MarkdownHeadingCollapsed": true
   },
   "source": [
    "#### Cleaning the `business_nature` column"
   ]
  },
  {
   "cell_type": "markdown",
   "id": "4e2d57c7-fa78-40d7-a3dd-f8ebcd2fcc79",
   "metadata": {},
   "source": [
    "* We observe a typo in one of the fields **'\\tAerospace'**, This should be corrected.\n",
    "* We should capitalize all words in business nature so its standardized."
   ]
  },
  {
   "cell_type": "code",
   "execution_count": 28,
   "id": "9c290f66-9c85-49b5-a4c8-a6e326cc290a",
   "metadata": {},
   "outputs": [],
   "source": [
    "# Remove '/t'\n",
    "company_data_clean = company_data_cleaner.correct_str_values('business_nature', {'\\t': ''})\n",
    "\n",
    "# Capitalize all words\n",
    "company_data_clean = company_data_cleaner.capitalize_words('business_nature')"
   ]
  },
  {
   "cell_type": "markdown",
   "id": "4f0b4a37-1caf-4359-929e-c1d72f3bafc3",
   "metadata": {
    "jp-MarkdownHeadingCollapsed": true
   },
   "source": [
    "#### Cleaning the `employee_number` column"
   ]
  },
  {
   "cell_type": "markdown",
   "id": "2ec18951-e0cf-436f-bd9e-ae11065dec1a",
   "metadata": {},
   "source": [
    "* We want to convert the values in this column to integers so we can better work with it in the future.\n",
    "* Having an employee number of 0 is probably a mistake, but it is possible for a company to have 0 employees. I found information online on AIA and according to this [source](https://leadiq.com/c/aia/5a1d8b0f240000240065ee74#:~:text=As%20of%20August%202024%2C%20AIA%20has%20approximately%2045K%20employees%20across,including%20AsiaOceaniaNorth%20America.) they have 45,000 employees."
   ]
  },
  {
   "cell_type": "code",
   "execution_count": 29,
   "id": "220e5a50-17ff-4509-9e87-cd1821e915f8",
   "metadata": {},
   "outputs": [],
   "source": [
    "# Convert values to integers\n",
    "company_data_clean['employee_number'] = company_data_clean['employee_number'].astype(float).astype(int)\n",
    "\n",
    "# Replace 0 with value we found online\n",
    "company_data_clean.at[1, 'employee_number'] = 45000"
   ]
  },
  {
   "cell_type": "markdown",
   "id": "c7035708-38f6-4788-9658-5442b0db7e36",
   "metadata": {
    "jp-MarkdownHeadingCollapsed": true
   },
   "source": [
    "#### Cleaning the `type` column"
   ]
  },
  {
   "cell_type": "markdown",
   "id": "70e3ccd7-c1da-4965-bde2-2f75eeb245ae",
   "metadata": {},
   "source": [
    "We have a missing value at index 8. Since **'KPMG'** is a private company we can go ahead and fill this value in manually. In general, if we are only missing few values we can make inquiries online or with the relevant parties in order to obtain information about the correctness of the data we fill in manually."
   ]
  },
  {
   "cell_type": "code",
   "execution_count": 30,
   "id": "faab2b86-0aac-464d-9c4d-1eacbdf267c6",
   "metadata": {},
   "outputs": [],
   "source": [
    "company_data_clean.at[8, 'type'] = 'private'"
   ]
  },
  {
   "cell_type": "markdown",
   "id": "cb1cd32c-e2a7-4480-82f1-0e0496071ce6",
   "metadata": {
    "jp-MarkdownHeadingCollapsed": true
   },
   "source": [
    "#### Cleaning the `market_cap` column"
   ]
  },
  {
   "cell_type": "markdown",
   "id": "b30e8cd3-e43a-4182-96ea-96f1d139da9a",
   "metadata": {},
   "source": [
    "This column needs extensive cleaning and standardization. Below are the steps we will take:\n",
    "* Eliminate strings and non numeric chars, keeping track of the multiplier (Billion / Trillion)\n",
    "* Convert remaining digit values to numeric\n",
    "* Multiply values by appropriate multiplier\n",
    "* We will intentionally leave the **NaN** values as they represent 30% of our rows and removing them will cause significant loss of information. We will simply ignore them during statistical calculations."
   ]
  },
  {
   "cell_type": "code",
   "execution_count": 31,
   "id": "7464096c-42a1-4b88-948e-d7fce9f480c0",
   "metadata": {},
   "outputs": [],
   "source": [
    "# Convert 'billion' into 'B' and eliminate spaces\n",
    "company_data_clean = company_data_cleaner.correct_str_values('market_cap', {'billion': 'B', ' ': ''})\n",
    "\n",
    "# Create temporary market_cap_numeric and multiplier columns\n",
    "company_data_clean[['market_cap_numeric', 'multiplier']] = company_data_clean['market_cap'].astype(str).str.extract(r'([0-9.]+)([BT]?)')\n",
    "\n",
    "# Convert to numeric\n",
    "company_data_clean = company_data_cleaner.correct_str_values('multiplier', {'B': '1', 'T': '1000'})\n",
    "for col in ['market_cap_numeric', 'multiplier']:\n",
    "    company_data_clean[col] = pd.to_numeric(company_data_clean[col], errors='coerce')\n",
    "\n",
    "# Create new market_cap value based on numeric and mutiplier columns\n",
    "company_data_clean['market_cap'] = (company_data_clean['market_cap_numeric'] * company_data_clean['multiplier']).round(2)\n",
    "\n",
    "# Rename market_cap column to denote the unit (Billions)\n",
    "company_data_clean.rename(columns={\"market_cap\": \"market_cap(Billion)\"}, inplace=True)\n",
    "\n",
    "# Drop helper columns\n",
    "company_data_clean.drop(columns=['market_cap_numeric', 'multiplier'], inplace=True)"
   ]
  },
  {
   "cell_type": "code",
   "execution_count": 32,
   "id": "cebddc29-eabd-4e21-aedf-1d9f6f0979c8",
   "metadata": {},
   "outputs": [
    {
     "name": "stdout",
     "output_type": "stream",
     "text": [
      "                Column  Missing %\n",
      "0  market_cap(Billion)  27.272727\n",
      "1           company_id   0.000000\n",
      "2                 name   0.000000\n",
      "3               domain   0.000000\n",
      "4      business_nature   0.000000\n",
      "5      employee_number   0.000000\n",
      "6                 type   0.000000\n"
     ]
    }
   ],
   "source": [
    "# Making sure all missing values were handled (Other than in market_cap)\n",
    "print_missing_percentage(company_data_clean)"
   ]
  },
  {
   "cell_type": "markdown",
   "id": "597c7598-d349-45cb-894f-59f1a9740765",
   "metadata": {
    "jp-MarkdownHeadingCollapsed": true
   },
   "source": [
    "#### Removing Whitespace"
   ]
  },
  {
   "cell_type": "markdown",
   "id": "0422c149-d2a5-4992-b1f9-14dd6dd5593c",
   "metadata": {},
   "source": [
    "We should remove whitespace from all categorical features for efficient grouping later on."
   ]
  },
  {
   "cell_type": "code",
   "execution_count": 33,
   "id": "74c9b0f6-2e8f-4920-83c6-55a2fb46028c",
   "metadata": {},
   "outputs": [],
   "source": [
    "for col in ['company_id', 'name', 'domain', 'business_nature','type']:\n",
    "    company_data_clean = company_data_cleaner.trim_whitespace(col)"
   ]
  },
  {
   "cell_type": "markdown",
   "id": "78977be6-3924-4310-892c-a9a888785c3b",
   "metadata": {
    "jp-MarkdownHeadingCollapsed": true
   },
   "source": [
    "#### Outliers"
   ]
  },
  {
   "cell_type": "markdown",
   "id": "398bdaf6-bf6e-49e4-9422-057860e69c4d",
   "metadata": {},
   "source": [
    "Finally, we will search for outliers in our numerical categories and create boxplots to better visualize the distribution."
   ]
  },
  {
   "cell_type": "code",
   "execution_count": 34,
   "id": "d72d9259-f24d-4ec2-934b-003ceb039046",
   "metadata": {},
   "outputs": [
    {
     "data": {
      "image/png": "[encoded data removed]",
      "text/plain": [
       "<Figure size 960x480 with 2 Axes>"
      ]
     },
     "metadata": {},
     "output_type": "display_data"
    }
   ],
   "source": [
    "# Create figure and axes\n",
    "fig, axes = plt.subplots(nrows=1, ncols=2, figsize=(12,6))\n",
    "fig.suptitle('Outliers\\n', fontsize=20, fontweight='bold')\n",
    "fig.subplots_adjust(top=1.5)\n",
    "\n",
    "# Create boxplots for employee_number and market_cap(Billion)\n",
    "sns.boxplot(y='employee_number', data=company_data_clean, ax=axes[0])\n",
    "sns.boxplot(y='market_cap(Billion)', data=company_data_clean, ax=axes[1])\n",
    "\n",
    "# Add titles\n",
    "axes[0].set_title('Employee Number\\n')\n",
    "axes[1].set_title('Market Cap\\n')\n",
    "\n",
    "plt.tight_layout();"
   ]
  },
  {
   "cell_type": "markdown",
   "id": "24dfffd8-2f97-4ccc-9ebf-697023690817",
   "metadata": {},
   "source": [
    "* `employee_number` - We observe that there are two outliers on the higher end, probably representing much larger companies. This will heavily skew the range or the employee numbers and based on the boxplot our outliers are above the 100,000 level.\n",
    "* `market_cap(Billion)` - There is a noticable skew with two outliers on the higher end, indicating that a few companies have a significantly higher market capitilization. This will have a significant impact on further calculations and based on the boxplot our outliers are above the 200 level."
   ]
  },
  {
   "cell_type": "markdown",
   "id": "2887de7b-38ae-4a8e-9b14-110ff5209b10",
   "metadata": {},
   "source": [
    "Based on the above, the actions we will need to take on outliers are as follows:\n",
    "* `employee_number` - We should remove rows with employee numbers above 100,000.\n",
    "* `market_cap(Billion)`  - We should remove rows with a market cap above 200 billion.\n",
    "* However, in both these cases, eliminating rows will result in a significant loss of data, so instead we will simply use statistical methods that are less sensitive to ourliers (interquartile range and median) for measuring the spread and central tendency."
   ]
  },
  {
   "cell_type": "markdown",
   "id": "d8bf8432-d5c0-4a89-b56c-f2aa7da4b730",
   "metadata": {
    "jp-MarkdownHeadingCollapsed": true
   },
   "source": [
    "### 3. Data Summarization and Exploration"
   ]
  },
  {
   "cell_type": "markdown",
   "id": "01cfcc28-7490-47d7-864d-d178af9eb60f",
   "metadata": {
    "jp-MarkdownHeadingCollapsed": true
   },
   "source": [
    "#### Descriptive Statistics"
   ]
  },
  {
   "cell_type": "markdown",
   "id": "29908ac7-643a-43b2-b9d8-15ab270f0a05",
   "metadata": {},
   "source": [
    "First, we will calculate summary statistics for numerical features in the dataset."
   ]
  },
  {
   "cell_type": "code",
   "execution_count": 35,
   "id": "7e5e0f22-a947-4c8e-ba46-cb29385a98e4",
   "metadata": {},
   "outputs": [
    {
     "name": "stdout",
     "output_type": "stream",
     "text": [
      "       employee_number  market_cap(Billion)\n",
      "count            11.00                 8.00\n",
      "mean          66253.36               213.96\n",
      "std           79793.85               374.34\n",
      "min           15900.00                31.60\n",
      "25%           25417.50                41.84\n",
      "50%           35000.00                62.92\n",
      "75%           43335.50               128.09\n",
      "max          227000.00              1120.00\n"
     ]
    }
   ],
   "source": [
    "# Gererate descriptive statistics for the numerical columns\n",
    "summary_stats = company_data_clean[['employee_number', 'market_cap(Billion)']].describe()\n",
    "\n",
    "# Display the results rounded to 2 decimal places\n",
    "print(summary_stats.round(2))"
   ]
  },
  {
   "cell_type": "markdown",
   "id": "db9ba4ba-303f-400c-ae68-f38a97b05e02",
   "metadata": {},
   "source": [
    "Next, we will summarize our categorical features using frequency tables. Since there are no overlapping values in **'company_id'**, **'name'** and **'domain'**, We will only generate frequency tables for the remaining 2 'interesting' columns."
   ]
  },
  {
   "cell_type": "code",
   "execution_count": 36,
   "id": "8c0464f7-8615-4c20-8375-08d69b45935a",
   "metadata": {},
   "outputs": [
    {
     "name": "stdout",
     "output_type": "stream",
     "text": [
      "\n",
      "Frequency Table for business_nature:\n",
      "                     %\n",
      "business_nature       \n",
      "Insurance        27.27\n",
      "Banking           9.09\n",
      "Railway           9.09\n",
      "Communications    9.09\n",
      "Telecom           9.09\n",
      "\n",
      "Frequency Table for type:\n",
      "                %\n",
      "type             \n",
      "public      81.82\n",
      "government   9.09\n",
      "private      9.09\n"
     ]
    }
   ],
   "source": [
    "# Generate frequency tables for the categorical columns\n",
    "categorical_columns = ['business_nature', 'type']\n",
    "\n",
    "display_freq_table(company_data_clean, categorical_columns)"
   ]
  },
  {
   "cell_type": "markdown",
   "id": "28d950ba-078e-4ca3-8dd7-ca7d096aa6d2",
   "metadata": {
    "jp-MarkdownHeadingCollapsed": true
   },
   "source": [
    "#### Data Visualization"
   ]
  },
  {
   "cell_type": "markdown",
   "id": "74a21e13-f014-4d88-9fca-da5ecbd81a5b",
   "metadata": {},
   "source": [
    "Now that we have clean company data, let's put it all together and take a visual look at our companies."
   ]
  },
  {
   "cell_type": "code",
   "execution_count": 37,
   "id": "5c2e4cbc-3d42-4036-bef7-6133567c2597",
   "metadata": {},
   "outputs": [
    {
     "data": {
      "image/png": "[encoded data removed]",
      "text/plain": [
       "<Figure size 1280x640 with 4 Axes>"
      ]
     },
     "metadata": {},
     "output_type": "display_data"
    }
   ],
   "source": [
    "# Create figure and axes\n",
    "fig, ax = plt.subplots(nrows=2, ncols=2, figsize=(16,8))\n",
    "fig.suptitle('Company Information\\n', fontsize=20, fontweight='bold')\n",
    "fig.subplots_adjust(top=1.5)\n",
    "\n",
    "# Plot a histogram of the 'market_cap(Billion)' column\n",
    "ax[0, 0].hist(company_data_clean['market_cap(Billion)'], bins=100, color='skyblue', alpha=0.7)\n",
    "\n",
    "# Set market_cap(Billion) labels and title\n",
    "ax[0, 0].set_xlabel('Market Cap (Billion)')\n",
    "ax[0, 0].set_ylabel('Frequency')\n",
    "ax[0, 0].set_title('Distribution of Company Market Cap')\n",
    "\n",
    "# Plot a histogram of the 'employee_number' column\n",
    "ax[0, 1].hist(company_data_clean['employee_number'], bins=100, color='skyblue', alpha=0.7)\n",
    "\n",
    "# Set employee_number labels and title\n",
    "ax[0, 1].set_xlabel('Number of Employees')\n",
    "ax[0, 1].set_ylabel('Frequency')\n",
    "ax[0, 1].set_title('Distribution of Number of Employees')\n",
    "\n",
    "# Get value counts for business nature\n",
    "business_nature_counts = company_data_clean['business_nature'].value_counts(ascending=True).tail(10)\n",
    "\n",
    "# Plot a horizontal bar chart of the business nature distribution\n",
    "ax[1, 0].barh(business_nature_counts.index, business_nature_counts.values, color='skyblue')\n",
    "\n",
    "# Set business nature labels and title\n",
    "ax[1, 0].set_xlabel('Frequency')\n",
    "ax[1, 0].set_ylabel('Business Nature')\n",
    "ax[1, 0].set_title('Distribution of Customer Business Nature')\n",
    "\n",
    "# Plot a pie chart of the 'type' column\n",
    "type_counts = company_data_clean['type'].value_counts()\n",
    "wedges, texts, autotexts= ax[1, 1].pie(type_counts, labels=type_counts.index, autopct='%1.1f%%', startangle=140)\n",
    "\n",
    "# Change font color or percentages\n",
    "for autotext in autotexts:\n",
    "    autotext.set_color('#16180c')\n",
    "\n",
    "# Change wedge colors\n",
    "wedges[0].set_color('skyblue')\n",
    "wedges[1].set_color('#FC712B')\n",
    "wedges[2].set_color('#FECD5A')\n",
    "\n",
    "# Set type title\n",
    "ax[1, 1].set_title('Distribution of Company Type')\n",
    "\n",
    "plt.tight_layout();"
   ]
  },
  {
   "cell_type": "markdown",
   "id": "e067856d-c01d-4083-9b15-161dad885d68",
   "metadata": {
    "jp-MarkdownHeadingCollapsed": true
   },
   "source": [
    "#### Distribution Analysis"
   ]
  },
  {
   "cell_type": "markdown",
   "id": "09e60e95-394c-4413-967e-984f46b0efdf",
   "metadata": {},
   "source": [
    "Let's examine the shape of the distribution for our numerical features:\n",
    "* **Market Cap** - This looks like an asymetric distribution skewed to the right.\n",
    "* **Number of Employees** - This looks like an asymetric distribution skewed to the right."
   ]
  },
  {
   "cell_type": "markdown",
   "id": "d32b5571-0b75-4d3b-9a01-bed68db781cc",
   "metadata": {
    "jp-MarkdownHeadingCollapsed": true
   },
   "source": [
    "### 4. Conclusion"
   ]
  },
  {
   "cell_type": "markdown",
   "id": "fa95e894-591b-4aa5-a02e-6448bb650d9f",
   "metadata": {},
   "source": [
    "After exploring and visualizing our data we observe the following:\n",
    "1. **Company Type**:\n",
    "    * The majority of our companies are public (***81.8%***).      \n",
    "2. **Business Nature**:\n",
    "    * Our companies span a wide range of industries, with **Insurance** as the most common (***27.27%***).\n",
    "3. **Number of Employees**:\n",
    "    * Companies have a wide range of employees from ***15,900*** - ***227,000***\n",
    "    * Most companies have a number of employees within the interquartile range of ***25,417*** - ***43,335***\n",
    "    * The median number of employees the companies have is ***35,000***\n",
    "4. **Market Cap**:\n",
    "    * Companies have a wide range of market capitilization from ***31.6*** billion to ***1.12*** trillion.\n",
    "    * Most companies have a market cap within the interquartile range of ***41.84*** - ***128.09*** billion.\n",
    "    * The median market cap for the companies is ***62.92***"
   ]
  },
  {
   "cell_type": "markdown",
   "id": "962d4b00-8c21-4510-bbdf-5ead3e96ac97",
   "metadata": {
    "jp-MarkdownHeadingCollapsed": true
   },
   "source": [
    "## <center>Aggregate Customer Data into Company Data</center>"
   ]
  },
  {
   "cell_type": "markdown",
   "id": "0d164516-d7a3-456d-8fb0-2bcf284f4a7b",
   "metadata": {
    "jp-MarkdownHeadingCollapsed": true
   },
   "source": [
    "### 1. Customer Dataset Data Aggregation"
   ]
  },
  {
   "cell_type": "markdown",
   "id": "3ee50975-7531-4079-b4d5-f02463130ade",
   "metadata": {
    "jp-MarkdownHeadingCollapsed": true
   },
   "source": [
    "#### Create Aggregated Dataframe"
   ]
  },
  {
   "cell_type": "markdown",
   "id": "9646ce68-e900-4972-8a9f-189305dbf756",
   "metadata": {},
   "source": [
    "First we will need to extract the relevant information about companies from the customer dataset. I identified the columns `company` and `business_nature` to be of interest for our analysis. We will perform the following aggregations:\n",
    "* Count the number of customers per company.\n",
    "* Calculate the average, minimum and maximum `target_mean` for each company.\n",
    "* Count the amount of distinct `business_nature` values associated with each company."
   ]
  },
  {
   "cell_type": "code",
   "execution_count": 38,
   "id": "f4f0f7ea-f8c0-424d-a4aa-56723dd4f2dc",
   "metadata": {
    "scrolled": true
   },
   "outputs": [
    {
     "data": {
      "text/html": [
       "<div>\n",
       "<style scoped>\n",
       "    .dataframe tbody tr th:only-of-type {\n",
       "        vertical-align: middle;\n",
       "    }\n",
       "\n",
       "    .dataframe tbody tr th {\n",
       "        vertical-align: top;\n",
       "    }\n",
       "\n",
       "    .dataframe thead th {\n",
       "        text-align: right;\n",
       "    }\n",
       "</style>\n",
       "<table border=\"1\" class=\"dataframe\">\n",
       "  <thead>\n",
       "    <tr style=\"text-align: right;\">\n",
       "      <th></th>\n",
       "      <th>customer_count</th>\n",
       "      <th>mean</th>\n",
       "      <th>min</th>\n",
       "      <th>max</th>\n",
       "      <th>Distinct Business Natures</th>\n",
       "    </tr>\n",
       "    <tr>\n",
       "      <th>company_name</th>\n",
       "      <th></th>\n",
       "      <th></th>\n",
       "      <th></th>\n",
       "      <th></th>\n",
       "      <th></th>\n",
       "    </tr>\n",
       "  </thead>\n",
       "  <tbody>\n",
       "    <tr>\n",
       "      <th>unknown</th>\n",
       "      <td>204</td>\n",
       "      <td>15715.957338</td>\n",
       "      <td>-1950.875000</td>\n",
       "      <td>72159.250000</td>\n",
       "      <td>13</td>\n",
       "    </tr>\n",
       "    <tr>\n",
       "      <th>hsbc</th>\n",
       "      <td>40</td>\n",
       "      <td>45563.589217</td>\n",
       "      <td>13237.300000</td>\n",
       "      <td>188957.840000</td>\n",
       "      <td>2</td>\n",
       "    </tr>\n",
       "    <tr>\n",
       "      <th>hospital authority</th>\n",
       "      <td>36</td>\n",
       "      <td>41280.714130</td>\n",
       "      <td>15109.818000</td>\n",
       "      <td>141966.286667</td>\n",
       "      <td>5</td>\n",
       "    </tr>\n",
       "    <tr>\n",
       "      <th>pccw</th>\n",
       "      <td>30</td>\n",
       "      <td>26545.113944</td>\n",
       "      <td>15143.560000</td>\n",
       "      <td>55274.292000</td>\n",
       "      <td>5</td>\n",
       "    </tr>\n",
       "    <tr>\n",
       "      <th>hkt</th>\n",
       "      <td>28</td>\n",
       "      <td>27690.859964</td>\n",
       "      <td>12711.643333</td>\n",
       "      <td>74534.287500</td>\n",
       "      <td>4</td>\n",
       "    </tr>\n",
       "    <tr>\n",
       "      <th>hk government</th>\n",
       "      <td>25</td>\n",
       "      <td>40392.009153</td>\n",
       "      <td>15596.700000</td>\n",
       "      <td>101552.470000</td>\n",
       "      <td>1</td>\n",
       "    </tr>\n",
       "    <tr>\n",
       "      <th>cathay pacific airways</th>\n",
       "      <td>25</td>\n",
       "      <td>30493.292993</td>\n",
       "      <td>15253.050000</td>\n",
       "      <td>58091.250000</td>\n",
       "      <td>1</td>\n",
       "    </tr>\n",
       "    <tr>\n",
       "      <th>aia</th>\n",
       "      <td>22</td>\n",
       "      <td>45437.174667</td>\n",
       "      <td>15219.496667</td>\n",
       "      <td>112461.116667</td>\n",
       "      <td>6</td>\n",
       "    </tr>\n",
       "    <tr>\n",
       "      <th>mtr</th>\n",
       "      <td>20</td>\n",
       "      <td>25419.493733</td>\n",
       "      <td>13289.392000</td>\n",
       "      <td>50407.465000</td>\n",
       "      <td>7</td>\n",
       "    </tr>\n",
       "    <tr>\n",
       "      <th>sf express</th>\n",
       "      <td>20</td>\n",
       "      <td>28345.678850</td>\n",
       "      <td>17398.993333</td>\n",
       "      <td>56854.310000</td>\n",
       "      <td>5</td>\n",
       "    </tr>\n",
       "  </tbody>\n",
       "</table>\n",
       "</div>"
      ],
      "text/plain": [
       "                        customer_count          mean           min  \\\n",
       "company_name                                                         \n",
       "unknown                            204  15715.957338  -1950.875000   \n",
       "hsbc                                40  45563.589217  13237.300000   \n",
       "hospital authority                  36  41280.714130  15109.818000   \n",
       "pccw                                30  26545.113944  15143.560000   \n",
       "hkt                                 28  27690.859964  12711.643333   \n",
       "hk government                       25  40392.009153  15596.700000   \n",
       "cathay pacific airways              25  30493.292993  15253.050000   \n",
       "aia                                 22  45437.174667  15219.496667   \n",
       "mtr                                 20  25419.493733  13289.392000   \n",
       "sf express                          20  28345.678850  17398.993333   \n",
       "\n",
       "                                  max  Distinct Business Natures  \n",
       "company_name                                                      \n",
       "unknown                  72159.250000                         13  \n",
       "hsbc                    188957.840000                          2  \n",
       "hospital authority      141966.286667                          5  \n",
       "pccw                     55274.292000                          5  \n",
       "hkt                      74534.287500                          4  \n",
       "hk government           101552.470000                          1  \n",
       "cathay pacific airways   58091.250000                          1  \n",
       "aia                     112461.116667                          6  \n",
       "mtr                      50407.465000                          7  \n",
       "sf express               56854.310000                          5  "
      ]
     },
     "execution_count": 38,
     "metadata": {},
     "output_type": "execute_result"
    }
   ],
   "source": [
    "# create new dataframe grouped by 'company'\n",
    "agg_company_data = customer_data_clean.groupby('company').size().to_frame(name='customer_count')\n",
    "\n",
    "# Change index name\n",
    "agg_company_data.index.name = 'company_name'\n",
    "\n",
    "# Group by 'company' and calculate the mean, min and max of 'target_mean'\n",
    "agg_company_data = agg_company_data.join(customer_data_clean.groupby('company')['target_mean'].agg(['mean', 'min', 'max']))\n",
    "\n",
    "# Group by 'company' and count the number fo unique values in 'business_nature'\n",
    "agg_company_data = agg_company_data.join(customer_data_clean.groupby('company')['business_nature'].nunique().to_frame(name='Distinct Business Natures'))\n",
    "\n",
    "# Sort by 'customer_count' and count in descending order\n",
    "agg_company_data = agg_company_data.sort_values(by='customer_count', ascending=False)\n",
    "agg_company_data.head(10)"
   ]
  },
  {
   "cell_type": "markdown",
   "id": "9799fbab-51ac-4c21-a010-4d8a491aa259",
   "metadata": {},
   "source": [
    "We observe that the **'unknown'** category produces the highest amounts of `customer_count` and `Distinct Business Natures` values. However, this should be considered an outlier since it is significantly larger than the rest of the company amounts and will skew our distributions if used as is. I therefore decided to remove the **'unknown'** row from the `agg_company_data` dataframe."
   ]
  },
  {
   "cell_type": "code",
   "execution_count": 39,
   "id": "6978d41d-d7b5-4c6a-9b42-6c82ff058ab8",
   "metadata": {},
   "outputs": [
    {
     "data": {
      "text/html": [
       "<div>\n",
       "<style scoped>\n",
       "    .dataframe tbody tr th:only-of-type {\n",
       "        vertical-align: middle;\n",
       "    }\n",
       "\n",
       "    .dataframe tbody tr th {\n",
       "        vertical-align: top;\n",
       "    }\n",
       "\n",
       "    .dataframe thead th {\n",
       "        text-align: right;\n",
       "    }\n",
       "</style>\n",
       "<table border=\"1\" class=\"dataframe\">\n",
       "  <thead>\n",
       "    <tr style=\"text-align: right;\">\n",
       "      <th></th>\n",
       "      <th>customer_count</th>\n",
       "      <th>mean</th>\n",
       "      <th>min</th>\n",
       "      <th>max</th>\n",
       "      <th>Distinct Business Natures</th>\n",
       "    </tr>\n",
       "    <tr>\n",
       "      <th>company_name</th>\n",
       "      <th></th>\n",
       "      <th></th>\n",
       "      <th></th>\n",
       "      <th></th>\n",
       "      <th></th>\n",
       "    </tr>\n",
       "  </thead>\n",
       "  <tbody>\n",
       "    <tr>\n",
       "      <th>hsbc</th>\n",
       "      <td>40</td>\n",
       "      <td>45563.589217</td>\n",
       "      <td>13237.300000</td>\n",
       "      <td>188957.840000</td>\n",
       "      <td>2</td>\n",
       "    </tr>\n",
       "    <tr>\n",
       "      <th>hospital authority</th>\n",
       "      <td>36</td>\n",
       "      <td>41280.714130</td>\n",
       "      <td>15109.818000</td>\n",
       "      <td>141966.286667</td>\n",
       "      <td>5</td>\n",
       "    </tr>\n",
       "    <tr>\n",
       "      <th>pccw</th>\n",
       "      <td>30</td>\n",
       "      <td>26545.113944</td>\n",
       "      <td>15143.560000</td>\n",
       "      <td>55274.292000</td>\n",
       "      <td>5</td>\n",
       "    </tr>\n",
       "    <tr>\n",
       "      <th>hkt</th>\n",
       "      <td>28</td>\n",
       "      <td>27690.859964</td>\n",
       "      <td>12711.643333</td>\n",
       "      <td>74534.287500</td>\n",
       "      <td>4</td>\n",
       "    </tr>\n",
       "    <tr>\n",
       "      <th>hk government</th>\n",
       "      <td>25</td>\n",
       "      <td>40392.009153</td>\n",
       "      <td>15596.700000</td>\n",
       "      <td>101552.470000</td>\n",
       "      <td>1</td>\n",
       "    </tr>\n",
       "    <tr>\n",
       "      <th>cathay pacific airways</th>\n",
       "      <td>25</td>\n",
       "      <td>30493.292993</td>\n",
       "      <td>15253.050000</td>\n",
       "      <td>58091.250000</td>\n",
       "      <td>1</td>\n",
       "    </tr>\n",
       "    <tr>\n",
       "      <th>aia</th>\n",
       "      <td>22</td>\n",
       "      <td>45437.174667</td>\n",
       "      <td>15219.496667</td>\n",
       "      <td>112461.116667</td>\n",
       "      <td>6</td>\n",
       "    </tr>\n",
       "    <tr>\n",
       "      <th>mtr</th>\n",
       "      <td>20</td>\n",
       "      <td>25419.493733</td>\n",
       "      <td>13289.392000</td>\n",
       "      <td>50407.465000</td>\n",
       "      <td>7</td>\n",
       "    </tr>\n",
       "    <tr>\n",
       "      <th>sf express</th>\n",
       "      <td>20</td>\n",
       "      <td>28345.678850</td>\n",
       "      <td>17398.993333</td>\n",
       "      <td>56854.310000</td>\n",
       "      <td>5</td>\n",
       "    </tr>\n",
       "    <tr>\n",
       "      <th>hk jockey club</th>\n",
       "      <td>19</td>\n",
       "      <td>28610.531579</td>\n",
       "      <td>2661.200000</td>\n",
       "      <td>65758.200000</td>\n",
       "      <td>7</td>\n",
       "    </tr>\n",
       "  </tbody>\n",
       "</table>\n",
       "</div>"
      ],
      "text/plain": [
       "                        customer_count          mean           min  \\\n",
       "company_name                                                         \n",
       "hsbc                                40  45563.589217  13237.300000   \n",
       "hospital authority                  36  41280.714130  15109.818000   \n",
       "pccw                                30  26545.113944  15143.560000   \n",
       "hkt                                 28  27690.859964  12711.643333   \n",
       "hk government                       25  40392.009153  15596.700000   \n",
       "cathay pacific airways              25  30493.292993  15253.050000   \n",
       "aia                                 22  45437.174667  15219.496667   \n",
       "mtr                                 20  25419.493733  13289.392000   \n",
       "sf express                          20  28345.678850  17398.993333   \n",
       "hk jockey club                      19  28610.531579   2661.200000   \n",
       "\n",
       "                                  max  Distinct Business Natures  \n",
       "company_name                                                      \n",
       "hsbc                    188957.840000                          2  \n",
       "hospital authority      141966.286667                          5  \n",
       "pccw                     55274.292000                          5  \n",
       "hkt                      74534.287500                          4  \n",
       "hk government           101552.470000                          1  \n",
       "cathay pacific airways   58091.250000                          1  \n",
       "aia                     112461.116667                          6  \n",
       "mtr                      50407.465000                          7  \n",
       "sf express               56854.310000                          5  \n",
       "hk jockey club           65758.200000                          7  "
      ]
     },
     "execution_count": 39,
     "metadata": {},
     "output_type": "execute_result"
    }
   ],
   "source": [
    "# Drop 'unknown' row\n",
    "agg_company_data.drop(index='unknown', inplace=True)\n",
    "agg_company_data.head(10)"
   ]
  },
  {
   "cell_type": "markdown",
   "id": "31b33b27-e804-4f5c-9e96-b4a052999fa0",
   "metadata": {},
   "source": [
    "#### Summarize The Aggregated Data"
   ]
  },
  {
   "cell_type": "markdown",
   "id": "27cf5f30-7720-413a-9f96-6aa0b2e61eeb",
   "metadata": {
    "jp-MarkdownHeadingCollapsed": true
   },
   "source": [
    "##### Descriptive Statistics"
   ]
  },
  {
   "cell_type": "code",
   "execution_count": 40,
   "id": "17ccc027-9948-4c10-816c-3ae2c9ec0ff1",
   "metadata": {},
   "outputs": [
    {
     "data": {
      "text/html": [
       "<div>\n",
       "<style scoped>\n",
       "    .dataframe tbody tr th:only-of-type {\n",
       "        vertical-align: middle;\n",
       "    }\n",
       "\n",
       "    .dataframe tbody tr th {\n",
       "        vertical-align: top;\n",
       "    }\n",
       "\n",
       "    .dataframe thead th {\n",
       "        text-align: right;\n",
       "    }\n",
       "</style>\n",
       "<table border=\"1\" class=\"dataframe\">\n",
       "  <thead>\n",
       "    <tr style=\"text-align: right;\">\n",
       "      <th></th>\n",
       "      <th>customer_count</th>\n",
       "      <th>mean</th>\n",
       "      <th>min</th>\n",
       "      <th>max</th>\n",
       "      <th>Distinct Business Natures</th>\n",
       "    </tr>\n",
       "  </thead>\n",
       "  <tbody>\n",
       "    <tr>\n",
       "      <th>count</th>\n",
       "      <td>7219.00</td>\n",
       "      <td>7219.00</td>\n",
       "      <td>7219.00</td>\n",
       "      <td>7219.00</td>\n",
       "      <td>7219.00</td>\n",
       "    </tr>\n",
       "    <tr>\n",
       "      <th>mean</th>\n",
       "      <td>1.23</td>\n",
       "      <td>29570.06</td>\n",
       "      <td>28663.42</td>\n",
       "      <td>30760.67</td>\n",
       "      <td>1.06</td>\n",
       "    </tr>\n",
       "    <tr>\n",
       "      <th>std</th>\n",
       "      <td>1.31</td>\n",
       "      <td>18851.20</td>\n",
       "      <td>18638.32</td>\n",
       "      <td>20903.61</td>\n",
       "      <td>0.33</td>\n",
       "    </tr>\n",
       "    <tr>\n",
       "      <th>min</th>\n",
       "      <td>1.00</td>\n",
       "      <td>-1427.16</td>\n",
       "      <td>-1427.16</td>\n",
       "      <td>-1427.16</td>\n",
       "      <td>1.00</td>\n",
       "    </tr>\n",
       "    <tr>\n",
       "      <th>25%</th>\n",
       "      <td>1.00</td>\n",
       "      <td>18814.08</td>\n",
       "      <td>18110.11</td>\n",
       "      <td>18941.16</td>\n",
       "      <td>1.00</td>\n",
       "    </tr>\n",
       "    <tr>\n",
       "      <th>50%</th>\n",
       "      <td>1.00</td>\n",
       "      <td>24282.84</td>\n",
       "      <td>23429.22</td>\n",
       "      <td>24703.76</td>\n",
       "      <td>1.00</td>\n",
       "    </tr>\n",
       "    <tr>\n",
       "      <th>75%</th>\n",
       "      <td>1.00</td>\n",
       "      <td>33349.99</td>\n",
       "      <td>32017.85</td>\n",
       "      <td>34609.43</td>\n",
       "      <td>1.00</td>\n",
       "    </tr>\n",
       "    <tr>\n",
       "      <th>max</th>\n",
       "      <td>40.00</td>\n",
       "      <td>197165.64</td>\n",
       "      <td>197165.64</td>\n",
       "      <td>199720.77</td>\n",
       "      <td>7.00</td>\n",
       "    </tr>\n",
       "  </tbody>\n",
       "</table>\n",
       "</div>"
      ],
      "text/plain": [
       "       customer_count       mean        min        max  \\\n",
       "count         7219.00    7219.00    7219.00    7219.00   \n",
       "mean             1.23   29570.06   28663.42   30760.67   \n",
       "std              1.31   18851.20   18638.32   20903.61   \n",
       "min              1.00   -1427.16   -1427.16   -1427.16   \n",
       "25%              1.00   18814.08   18110.11   18941.16   \n",
       "50%              1.00   24282.84   23429.22   24703.76   \n",
       "75%              1.00   33349.99   32017.85   34609.43   \n",
       "max             40.00  197165.64  197165.64  199720.77   \n",
       "\n",
       "       Distinct Business Natures  \n",
       "count                    7219.00  \n",
       "mean                        1.06  \n",
       "std                         0.33  \n",
       "min                         1.00  \n",
       "25%                         1.00  \n",
       "50%                         1.00  \n",
       "75%                         1.00  \n",
       "max                         7.00  "
      ]
     },
     "execution_count": 40,
     "metadata": {},
     "output_type": "execute_result"
    }
   ],
   "source": [
    "# Generate descriptive statistics on the entire aggregated dataframe\n",
    "agg_company_data.describe().round(2)"
   ]
  },
  {
   "cell_type": "markdown",
   "id": "0b02535f-b35e-4c9c-9d53-59593ba7d84d",
   "metadata": {
    "jp-MarkdownHeadingCollapsed": true
   },
   "source": [
    "##### Data Visualization"
   ]
  },
  {
   "cell_type": "code",
   "execution_count": 41,
   "id": "a3d9c937-7d00-4e76-bde8-ea763dd46c92",
   "metadata": {},
   "outputs": [
    {
     "data": {
      "image/png": "[encoded data removed]",
      "text/plain": [
       "<Figure size 1280x640 with 4 Axes>"
      ]
     },
     "metadata": {},
     "output_type": "display_data"
    }
   ],
   "source": [
    "# Create figure and axes\n",
    "fig, ax = plt.subplots(nrows=2, ncols=2, figsize=(16,8))\n",
    "fig.suptitle('Aggregated Company Information\\n', fontsize=20, fontweight='bold')\n",
    "fig.subplots_adjust(top=1.5)\n",
    "\n",
    "# Plot a histogram of the 'customer_count' column\n",
    "ax[0, 0].hist(agg_company_data['customer_count'], bins=100, color='skyblue', alpha=0.7)\n",
    "\n",
    "# Set limit on x-axis\n",
    "ax[0, 0].set_xlim(right=40)\n",
    "\n",
    "# Set customer_count labels and title\n",
    "ax[0, 0].set_xlabel('Customer Count')\n",
    "ax[0, 0].set_ylabel('Number of Companies')\n",
    "ax[0, 0].set_title('Distribution of Customer Count per Company')\n",
    "\n",
    "# Plot a histogram of the 'Distinct Business Natures' column\n",
    "ax[0, 1].hist(agg_company_data['Distinct Business Natures'], bins=100, color='skyblue', alpha=0.7)\n",
    "\n",
    "# Set limit on x-axis\n",
    "ax[0, 1].set_xlim(left=0, right=7)\n",
    "\n",
    "# Set Distinct Business Nature labels and title\n",
    "ax[0, 1].set_xlabel('Distinct Business Natures')\n",
    "ax[0, 1].set_ylabel('Number of Companies')\n",
    "ax[0, 1].set_title('Count of Distinct Business Natures per Company')\n",
    "\n",
    "# Get top 10 value counts for companies\n",
    "top_companies = agg_company_data.nlargest(10, 'customer_count')\n",
    "\n",
    "# Plot a horizontal bar chart of the business nature distribution\n",
    "ax[1, 0].barh(top_companies.index, top_companies['customer_count'], color='skyblue')\n",
    "\n",
    "# Invert y-axis to descending order\n",
    "ax[1, 0].invert_yaxis()\n",
    "\n",
    "# Set top companies labels and title\n",
    "ax[1, 0].set_xlabel('Customer Count')\n",
    "ax[1, 0].set_ylabel('Company')\n",
    "ax[1, 0].set_title('Top 10 Companies by Customer Count')\n",
    "\n",
    "# Create a scatter plot of Mean Target by Customer Count\n",
    "ax[1, 1].scatter(agg_company_data['customer_count'], agg_company_data['mean'])\n",
    "\n",
    "# Set Mean Target by Customer Count labels and title\n",
    "ax[1, 1].set_xlabel('Customer Count')\n",
    "ax[1, 1].set_ylabel('Mean Target')\n",
    "ax[1, 1].set_title('Scatter Plot of Mean Target by Customer Count')\n",
    "\n",
    "plt.tight_layout()"
   ]
  },
  {
   "cell_type": "markdown",
   "id": "26de7092-09a9-4f21-929e-0888aa9feb23",
   "metadata": {
    "jp-MarkdownHeadingCollapsed": true
   },
   "source": [
    "##### Distribution Analysis"
   ]
  },
  {
   "cell_type": "markdown",
   "id": "da5ef945-8839-4bf0-a078-d7b3db38777e",
   "metadata": {},
   "source": [
    "Let's examine the shape of the distribution for our numerical features:\n",
    "* **Customer Count Per Company** - This looks like an asymetric distribution skewed to the right.\n",
    "* **Distinct Business Nature** - This looks like an asymetric distribution skewed to the right."
   ]
  },
  {
   "cell_type": "markdown",
   "id": "a8b13d61-193a-4638-a8a6-9fc6f9f3ec81",
   "metadata": {
    "jp-MarkdownHeadingCollapsed": true
   },
   "source": [
    "##### Insight"
   ]
  },
  {
   "cell_type": "markdown",
   "id": "ad7064be-a433-45b5-8434-dad36b5908b3",
   "metadata": {},
   "source": [
    "* Most companies have a customer count of ***1***, with very few outliers that range up to ***40*** customers. (With ***204*** customers in the **'unknown'** category).\n",
    "* Most companies have ***1*** distinct business nature, with very few outliers that range up to ***7*** (With ***13*** customers in the **'unknown'** category).\n",
    "* Our top ***10*** companies by customer count include **'hsbc'**, **'hospital authority'** and **'pccw'**\n",
    "* We still have a large amount of customers with unknown company values, our largest category.\n",
    "* There apears to be no correlation between **mean target** and **customer count**, as most companies with customer counts of ***1*** contained the entire range of mean targets."
   ]
  },
  {
   "cell_type": "markdown",
   "id": "9af64e1d-2863-4e43-9260-f6b60bf2d726",
   "metadata": {
    "jp-MarkdownHeadingCollapsed": true
   },
   "source": [
    "### 2. Dataset Merging"
   ]
  },
  {
   "cell_type": "markdown",
   "id": "eb985507-ca50-4114-9d08-06f2ab1816b8",
   "metadata": {},
   "source": [
    "Let's combine the original company dataset with the aggregated company dataset. Before merging, we will need to change the column name in the company dataset to correspond with the name in the aggregated dataset. We will then join the two datasets using these column as the key."
   ]
  },
  {
   "cell_type": "code",
   "execution_count": 42,
   "id": "77bede70-cb16-46c2-bbd2-3be6742da4c3",
   "metadata": {},
   "outputs": [
    {
     "data": {
      "text/html": [
       "<div>\n",
       "<style scoped>\n",
       "    .dataframe tbody tr th:only-of-type {\n",
       "        vertical-align: middle;\n",
       "    }\n",
       "\n",
       "    .dataframe tbody tr th {\n",
       "        vertical-align: top;\n",
       "    }\n",
       "\n",
       "    .dataframe thead th {\n",
       "        text-align: right;\n",
       "    }\n",
       "</style>\n",
       "<table border=\"1\" class=\"dataframe\">\n",
       "  <thead>\n",
       "    <tr style=\"text-align: right;\">\n",
       "      <th></th>\n",
       "      <th>company_id</th>\n",
       "      <th>company_name</th>\n",
       "      <th>domain</th>\n",
       "      <th>business_nature</th>\n",
       "      <th>employee_number</th>\n",
       "      <th>type</th>\n",
       "      <th>market_cap(Billion)</th>\n",
       "      <th>customer_count</th>\n",
       "      <th>mean</th>\n",
       "      <th>min</th>\n",
       "      <th>max</th>\n",
       "      <th>Distinct Business Natures</th>\n",
       "    </tr>\n",
       "  </thead>\n",
       "  <tbody>\n",
       "    <tr>\n",
       "      <th>0</th>\n",
       "      <td>00123122</td>\n",
       "      <td>hsbc</td>\n",
       "      <td>www.hsbc.com/</td>\n",
       "      <td>Banking</td>\n",
       "      <td>226059</td>\n",
       "      <td>public</td>\n",
       "      <td>78.45</td>\n",
       "      <td>40</td>\n",
       "      <td>45563.589217</td>\n",
       "      <td>13237.300000</td>\n",
       "      <td>188957.840000</td>\n",
       "      <td>2</td>\n",
       "    </tr>\n",
       "    <tr>\n",
       "      <th>1</th>\n",
       "      <td>878434523</td>\n",
       "      <td>aia</td>\n",
       "      <td>www.aia.com</td>\n",
       "      <td>Insurance</td>\n",
       "      <td>45000</td>\n",
       "      <td>public</td>\n",
       "      <td>1120.00</td>\n",
       "      <td>22</td>\n",
       "      <td>45437.174667</td>\n",
       "      <td>15219.496667</td>\n",
       "      <td>112461.116667</td>\n",
       "      <td>6</td>\n",
       "    </tr>\n",
       "    <tr>\n",
       "      <th>2</th>\n",
       "      <td>3423656</td>\n",
       "      <td>mtr</td>\n",
       "      <td>http://www.mtr.com.hk/en/customer/main/index.html</td>\n",
       "      <td>Railway</td>\n",
       "      <td>28035</td>\n",
       "      <td>public</td>\n",
       "      <td>271.00</td>\n",
       "      <td>20</td>\n",
       "      <td>25419.493733</td>\n",
       "      <td>13289.392000</td>\n",
       "      <td>50407.465000</td>\n",
       "      <td>7</td>\n",
       "    </tr>\n",
       "    <tr>\n",
       "      <th>3</th>\n",
       "      <td>452352</td>\n",
       "      <td>pccw</td>\n",
       "      <td>http://www.pccw.com/</td>\n",
       "      <td>Communications</td>\n",
       "      <td>22800</td>\n",
       "      <td>public</td>\n",
       "      <td>31.60</td>\n",
       "      <td>30</td>\n",
       "      <td>26545.113944</td>\n",
       "      <td>15143.560000</td>\n",
       "      <td>55274.292000</td>\n",
       "      <td>5</td>\n",
       "    </tr>\n",
       "    <tr>\n",
       "      <th>4</th>\n",
       "      <td>4342ff34</td>\n",
       "      <td>hkt</td>\n",
       "      <td>hkt.com</td>\n",
       "      <td>Telecom</td>\n",
       "      <td>15900</td>\n",
       "      <td>public</td>\n",
       "      <td>80.45</td>\n",
       "      <td>28</td>\n",
       "      <td>27690.859964</td>\n",
       "      <td>12711.643333</td>\n",
       "      <td>74534.287500</td>\n",
       "      <td>4</td>\n",
       "    </tr>\n",
       "    <tr>\n",
       "      <th>5</th>\n",
       "      <td>534534</td>\n",
       "      <td>manulife</td>\n",
       "      <td>https://www.manulife.com/</td>\n",
       "      <td>Insurance</td>\n",
       "      <td>34000</td>\n",
       "      <td>public</td>\n",
       "      <td>47.40</td>\n",
       "      <td>17</td>\n",
       "      <td>24931.345118</td>\n",
       "      <td>10058.813333</td>\n",
       "      <td>54885.790000</td>\n",
       "      <td>4</td>\n",
       "    </tr>\n",
       "    <tr>\n",
       "      <th>6</th>\n",
       "      <td>232131</td>\n",
       "      <td>cathay pacific airways</td>\n",
       "      <td>www.cathaypacific.com</td>\n",
       "      <td>Airline</td>\n",
       "      <td>35000</td>\n",
       "      <td>public</td>\n",
       "      <td>42.29</td>\n",
       "      <td>25</td>\n",
       "      <td>30493.292993</td>\n",
       "      <td>15253.050000</td>\n",
       "      <td>58091.250000</td>\n",
       "      <td>1</td>\n",
       "    </tr>\n",
       "    <tr>\n",
       "      <th>7</th>\n",
       "      <td>123555342</td>\n",
       "      <td>hk police force</td>\n",
       "      <td>https://www.police.gov.hk</td>\n",
       "      <td>Law Enforcement</td>\n",
       "      <td>36681</td>\n",
       "      <td>government</td>\n",
       "      <td>NaN</td>\n",
       "      <td>16</td>\n",
       "      <td>54101.222219</td>\n",
       "      <td>14877.435000</td>\n",
       "      <td>152179.670000</td>\n",
       "      <td>2</td>\n",
       "    </tr>\n",
       "    <tr>\n",
       "      <th>8</th>\n",
       "      <td>621621320</td>\n",
       "      <td>kpmg</td>\n",
       "      <td>home.kpmg</td>\n",
       "      <td>Consulting</td>\n",
       "      <td>227000</td>\n",
       "      <td>private</td>\n",
       "      <td>NaN</td>\n",
       "      <td>8</td>\n",
       "      <td>37215.301563</td>\n",
       "      <td>13746.510000</td>\n",
       "      <td>52247.217500</td>\n",
       "      <td>2</td>\n",
       "    </tr>\n",
       "    <tr>\n",
       "      <th>9</th>\n",
       "      <td>998411df</td>\n",
       "      <td>haeco</td>\n",
       "      <td>www.haeco.com</td>\n",
       "      <td>Aerospace</td>\n",
       "      <td>16641</td>\n",
       "      <td>public</td>\n",
       "      <td>NaN</td>\n",
       "      <td>13</td>\n",
       "      <td>22335.729231</td>\n",
       "      <td>15907.095000</td>\n",
       "      <td>32233.472500</td>\n",
       "      <td>4</td>\n",
       "    </tr>\n",
       "    <tr>\n",
       "      <th>10</th>\n",
       "      <td>df879987</td>\n",
       "      <td>prudential</td>\n",
       "      <td>https://www.prudential.com/</td>\n",
       "      <td>Insurance</td>\n",
       "      <td>41671</td>\n",
       "      <td>public</td>\n",
       "      <td>40.49</td>\n",
       "      <td>9</td>\n",
       "      <td>47389.528611</td>\n",
       "      <td>12608.040000</td>\n",
       "      <td>171764.550000</td>\n",
       "      <td>3</td>\n",
       "    </tr>\n",
       "  </tbody>\n",
       "</table>\n",
       "</div>"
      ],
      "text/plain": [
       "   company_id            company_name  \\\n",
       "0    00123122                    hsbc   \n",
       "1   878434523                     aia   \n",
       "2     3423656                     mtr   \n",
       "3      452352                    pccw   \n",
       "4    4342ff34                     hkt   \n",
       "5      534534                manulife   \n",
       "6      232131  cathay pacific airways   \n",
       "7   123555342         hk police force   \n",
       "8   621621320                    kpmg   \n",
       "9    998411df                   haeco   \n",
       "10   df879987              prudential   \n",
       "\n",
       "                                               domain  business_nature  \\\n",
       "0                                       www.hsbc.com/          Banking   \n",
       "1                                         www.aia.com        Insurance   \n",
       "2   http://www.mtr.com.hk/en/customer/main/index.html          Railway   \n",
       "3                                http://www.pccw.com/   Communications   \n",
       "4                                             hkt.com          Telecom   \n",
       "5                           https://www.manulife.com/        Insurance   \n",
       "6                               www.cathaypacific.com          Airline   \n",
       "7                           https://www.police.gov.hk  Law Enforcement   \n",
       "8                                           home.kpmg       Consulting   \n",
       "9                                       www.haeco.com        Aerospace   \n",
       "10                        https://www.prudential.com/        Insurance   \n",
       "\n",
       "    employee_number        type  market_cap(Billion)  customer_count  \\\n",
       "0            226059      public                78.45              40   \n",
       "1             45000      public              1120.00              22   \n",
       "2             28035      public               271.00              20   \n",
       "3             22800      public                31.60              30   \n",
       "4             15900      public                80.45              28   \n",
       "5             34000      public                47.40              17   \n",
       "6             35000      public                42.29              25   \n",
       "7             36681  government                  NaN              16   \n",
       "8            227000     private                  NaN               8   \n",
       "9             16641      public                  NaN              13   \n",
       "10            41671      public                40.49               9   \n",
       "\n",
       "            mean           min            max  Distinct Business Natures  \n",
       "0   45563.589217  13237.300000  188957.840000                          2  \n",
       "1   45437.174667  15219.496667  112461.116667                          6  \n",
       "2   25419.493733  13289.392000   50407.465000                          7  \n",
       "3   26545.113944  15143.560000   55274.292000                          5  \n",
       "4   27690.859964  12711.643333   74534.287500                          4  \n",
       "5   24931.345118  10058.813333   54885.790000                          4  \n",
       "6   30493.292993  15253.050000   58091.250000                          1  \n",
       "7   54101.222219  14877.435000  152179.670000                          2  \n",
       "8   37215.301563  13746.510000   52247.217500                          2  \n",
       "9   22335.729231  15907.095000   32233.472500                          4  \n",
       "10  47389.528611  12608.040000  171764.550000                          3  "
      ]
     },
     "execution_count": 42,
     "metadata": {},
     "output_type": "execute_result"
    }
   ],
   "source": [
    "# Change index name in the clean company dataframe\n",
    "company_data_clean.rename(columns={'name': 'company_name'}, inplace=True)\n",
    "\n",
    "# Combine datasets\n",
    "combined_dataset = pd.merge(company_data_clean, agg_company_data, on='company_name', how='left')\n",
    "combined_dataset"
   ]
  },
  {
   "cell_type": "markdown",
   "id": "a58f81c7-4dc3-4e60-8045-627157429bf1",
   "metadata": {},
   "source": [
    "Let's perform some calculations to find the companies with highest and lowest values in each of the following categories:\n",
    "* Customer Count\n",
    "* Mean Target value\n",
    "* Max/Min Target Value\n",
    "* Distinct Business Natures"
   ]
  },
  {
   "cell_type": "code",
   "execution_count": 43,
   "id": "2ebec9d6-8e27-4ebf-b20f-643cb7ca88a0",
   "metadata": {},
   "outputs": [
    {
     "data": {
      "text/html": [
       "<div>\n",
       "<style scoped>\n",
       "    .dataframe tbody tr th:only-of-type {\n",
       "        vertical-align: middle;\n",
       "    }\n",
       "\n",
       "    .dataframe tbody tr th {\n",
       "        vertical-align: top;\n",
       "    }\n",
       "\n",
       "    .dataframe thead th {\n",
       "        text-align: right;\n",
       "    }\n",
       "</style>\n",
       "<table border=\"1\" class=\"dataframe\">\n",
       "  <thead>\n",
       "    <tr style=\"text-align: right;\">\n",
       "      <th></th>\n",
       "      <th>Highest</th>\n",
       "      <th>Lowest</th>\n",
       "    </tr>\n",
       "  </thead>\n",
       "  <tbody>\n",
       "    <tr>\n",
       "      <th>customer_count</th>\n",
       "      <td>hsbc</td>\n",
       "      <td>kpmg</td>\n",
       "    </tr>\n",
       "    <tr>\n",
       "      <th>mean</th>\n",
       "      <td>hk police force</td>\n",
       "      <td>haeco</td>\n",
       "    </tr>\n",
       "    <tr>\n",
       "      <th>max/min</th>\n",
       "      <td>hsbc</td>\n",
       "      <td>manulife</td>\n",
       "    </tr>\n",
       "    <tr>\n",
       "      <th>distinct_business_natures</th>\n",
       "      <td>mtr</td>\n",
       "      <td>cathay pacific airways</td>\n",
       "    </tr>\n",
       "  </tbody>\n",
       "</table>\n",
       "</div>"
      ],
      "text/plain": [
       "                                   Highest                  Lowest\n",
       "customer_count                        hsbc                    kpmg\n",
       "mean                       hk police force                   haeco\n",
       "max/min                               hsbc                manulife\n",
       "distinct_business_natures              mtr  cathay pacific airways"
      ]
     },
     "execution_count": 43,
     "metadata": {},
     "output_type": "execute_result"
    }
   ],
   "source": [
    "# Calculate highest customer count\n",
    "highest_customer_count = combined_dataset.loc[combined_dataset['customer_count'].idxmax(), 'company_name']\n",
    "\n",
    "# Calculate highest mean target value\n",
    "highest_mean = combined_dataset.loc[combined_dataset['mean'].idxmax(), 'company_name']\n",
    "\n",
    "# Calculate and display highest max target value\n",
    "highest_max = combined_dataset.loc[combined_dataset['max'].idxmax(), 'company_name']\n",
    "\n",
    "# Calculate highest distinct busines natures\n",
    "highest_distinct_business_natures = combined_dataset.loc[combined_dataset['Distinct Business Natures'].idxmax(), 'company_name']\n",
    "\n",
    "# Calculate lowest customer count\n",
    "lowest_customer_count = combined_dataset.loc[combined_dataset['customer_count'].idxmin(), 'company_name']\n",
    "\n",
    "# Calculate lowest mean target value\n",
    "lowest_mean = combined_dataset.loc[combined_dataset['mean'].idxmin(), 'company_name']\n",
    "\n",
    "# Calculate lowest min target value\n",
    "lowest_min = combined_dataset.loc[combined_dataset['min'].idxmin(), 'company_name']\n",
    "\n",
    "# Calculate and display lowest distinct busines natures\n",
    "lowest_distinct_business_natures = combined_dataset.loc[combined_dataset['Distinct Business Natures'].idxmin(), 'company_name']\n",
    "\n",
    "# Create dataframe from data calculated above\n",
    "data = {'Highest': [highest_customer_count, highest_mean, highest_max, highest_distinct_business_natures],\n",
    "        'Lowest': [lowest_customer_count, lowest_mean, lowest_min, lowest_distinct_business_natures]}\n",
    "\n",
    "index = ['customer_count', 'mean', 'max/min', 'distinct_business_natures']\n",
    "observations = pd.DataFrame(data, index=index)\n",
    "observations"
   ]
  },
  {
   "cell_type": "markdown",
   "id": "7bb1027b-a60c-41a7-bbcf-bb2b1e953284",
   "metadata": {},
   "source": [
    "Following the combination of the aggregated customer data into the company dataset, we observe the following:"
   ]
  },
  {
   "cell_type": "markdown",
   "id": "8e3d379b-7d15-4b60-8831-5d375ba3f500",
   "metadata": {},
   "source": [
    "Companies with the highest values: \n",
    "\n",
    "* **\"hsbc\"** has the highest customer count.\n",
    "* **\"hk police force\"** has the highest mean target value.\n",
    "* **\"hsbc\"** has the highest maximum target value.\n",
    "* **\"mtr\"** has the highest amount of distinct business natures.\n",
    "\n",
    "Companies with the lowest values: \n",
    "\n",
    "* **\"kpmg\"** has the lowest customer count.\n",
    "* **\"haeco\"** has the lowest mean target value.\n",
    "* **\"manulife\"** has the lowest mimimum target value.\n",
    "* **\"cathay pacific airways\"** has the lowest amount of distinct business natures."
   ]
  },
  {
   "cell_type": "markdown",
   "id": "9b0f2e4b-5e54-4f96-a745-359e67084fd8",
   "metadata": {},
   "source": [
    "To finish off out analysis, let's see if there are any significant correlations between our companies' **employee number** and **market cap** to the aggregated data."
   ]
  },
  {
   "cell_type": "code",
   "execution_count": 44,
   "id": "bdc07a95-81fd-4721-91b8-8974190cf9c4",
   "metadata": {},
   "outputs": [
    {
     "data": {
      "text/html": [
       "<div>\n",
       "<style scoped>\n",
       "    .dataframe tbody tr th:only-of-type {\n",
       "        vertical-align: middle;\n",
       "    }\n",
       "\n",
       "    .dataframe tbody tr th {\n",
       "        vertical-align: top;\n",
       "    }\n",
       "\n",
       "    .dataframe thead th {\n",
       "        text-align: right;\n",
       "    }\n",
       "</style>\n",
       "<table border=\"1\" class=\"dataframe\">\n",
       "  <thead>\n",
       "    <tr style=\"text-align: right;\">\n",
       "      <th></th>\n",
       "      <th>customer_count</th>\n",
       "      <th>mean</th>\n",
       "      <th>min</th>\n",
       "      <th>max</th>\n",
       "      <th>Distinct Business Natures</th>\n",
       "    </tr>\n",
       "  </thead>\n",
       "  <tbody>\n",
       "    <tr>\n",
       "      <th>employee_number</th>\n",
       "      <td>0.139</td>\n",
       "      <td>0.354</td>\n",
       "      <td>-0.107</td>\n",
       "      <td>0.321</td>\n",
       "      <td>-0.448</td>\n",
       "    </tr>\n",
       "    <tr>\n",
       "      <th>market_cap(Billion)</th>\n",
       "      <td>-0.092</td>\n",
       "      <td>0.391</td>\n",
       "      <td>0.390</td>\n",
       "      <td>0.070</td>\n",
       "      <td>0.527</td>\n",
       "    </tr>\n",
       "  </tbody>\n",
       "</table>\n",
       "</div>"
      ],
      "text/plain": [
       "                     customer_count   mean    min    max  \\\n",
       "employee_number               0.139  0.354 -0.107  0.321   \n",
       "market_cap(Billion)          -0.092  0.391  0.390  0.070   \n",
       "\n",
       "                     Distinct Business Natures  \n",
       "employee_number                         -0.448  \n",
       "market_cap(Billion)                      0.527  "
      ]
     },
     "execution_count": 44,
     "metadata": {},
     "output_type": "execute_result"
    }
   ],
   "source": [
    "correlations = combined_dataset[['employee_number', 'market_cap(Billion)', 'customer_count', 'mean', 'min', 'max', 'Distinct Business Natures']].corr().round(3)\n",
    "correlations.iloc[:2, 2:]"
   ]
  },
  {
   "cell_type": "markdown",
   "id": "636526b0-b60a-431f-aeab-0824a5eabd08",
   "metadata": {},
   "source": [
    "It apears that there are no significant correlations to be found, however there are a few noteworthy points:\n",
    "* There is a medium positive correlation between a company's **market cap** and the amount of **distinct business natures**.\n",
    "* There is a small positive correlation between the **number of employees** and higher **target mean** and **max** values.\n",
    "* There is a small positive correlation between a company's **market cap** and higher **target mean** and **min** values."
   ]
  },
  {
   "cell_type": "markdown",
   "id": "e27078af-2720-419e-ab83-63937dd0d7ff",
   "metadata": {},
   "source": [
    "To summarise:\n",
    "* Companies with higher **market caps** are more likely to have a large amount of **distinct business natures**.\n",
    "* Companies with higher **numbers of employees** are more likely to have higher **target means** and contain values in the upper range of observations.\n",
    "* Companies with higher **market caps** are more likely to have higher **target means** while still containing values in the lower range of observations."
   ]
  }
 ],
 "metadata": {
  "kernelspec": {
   "display_name": "Python 3 (ipykernel)",
   "language": "python",
   "name": "python3"
  },
  "language_info": {
   "codemirror_mode": {
    "name": "ipython",
    "version": 3
   },
   "file_extension": ".py",
   "mimetype": "text/x-python",
   "name": "python",
   "nbconvert_exporter": "python",
   "pygments_lexer": "ipython3",
   "version": "3.12.4"
  }
 },
 "nbformat": 4,
 "nbformat_minor": 5
}
